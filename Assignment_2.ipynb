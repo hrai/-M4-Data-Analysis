{
  "nbformat": 4,
  "nbformat_minor": 0,
  "metadata": {
    "colab": {
      "name": "Assignment 2.ipynb",
      "version": "0.3.2",
      "provenance": [],
      "include_colab_link": true
    },
    "kernelspec": {
      "name": "python3",
      "display_name": "Python 3"
    }
  },
  "cells": [
    {
      "cell_type": "markdown",
      "metadata": {
        "id": "view-in-github",
        "colab_type": "text"
      },
      "source": [
        "<a href=\"https://colab.research.google.com/github/hrai/M4-Data-Analysis/blob/master/Assignment_2.ipynb\" target=\"_parent\"><img src=\"https://colab.research.google.com/assets/colab-badge.svg\" alt=\"Open In Colab\"/></a>"
      ]
    },
    {
      "cell_type": "code",
      "metadata": {
        "id": "VTFfssmFM1Ah",
        "colab_type": "code",
        "colab": {}
      },
      "source": [
        "import pandas as pd\n",
        "\n",
        "import matplotlib.pyplot as plt\n",
        "\n",
        "url='https://raw.githubusercontent.com/hrai/M4-Data-Analysis/master/data/M4_passages_2018-07.csv'\n",
        "df = pd.read_csv(url, parse_dates={'DateTime': ['Date', 'IntervalStart']})\n"
      ],
      "execution_count": 0,
      "outputs": []
    },
    {
      "cell_type": "code",
      "metadata": {
        "id": "dZ9YsVU2RPl3",
        "colab_type": "code",
        "outputId": "d9baf686-b42b-4520-e51b-7cbb57366828",
        "colab": {
          "base_uri": "https://localhost:8080/",
          "height": 505
        }
      },
      "source": [
        "count_row,count_col=df.shape\n",
        "\n",
        "print('Total rows: ' + str(count_row))\n",
        "\n",
        "df[:10]"
      ],
      "execution_count": 3,
      "outputs": [
        {
          "output_type": "stream",
          "text": [
            "Total rows: 94948\n"
          ],
          "name": "stdout"
        },
        {
          "output_type": "execute_result",
          "data": {
            "text/html": [
              "<div>\n",
              "<style scoped>\n",
              "    .dataframe tbody tr th:only-of-type {\n",
              "        vertical-align: middle;\n",
              "    }\n",
              "\n",
              "    .dataframe tbody tr th {\n",
              "        vertical-align: top;\n",
              "    }\n",
              "\n",
              "    .dataframe thead th {\n",
              "        text-align: right;\n",
              "    }\n",
              "</style>\n",
              "<table border=\"1\" class=\"dataframe\">\n",
              "  <thead>\n",
              "    <tr style=\"text-align: right;\">\n",
              "      <th></th>\n",
              "      <th>DateTime</th>\n",
              "      <th>AssetID</th>\n",
              "      <th>FinancialQtrID</th>\n",
              "      <th>IntervalEnd</th>\n",
              "      <th>Version</th>\n",
              "      <th>VehicleClass</th>\n",
              "      <th>TollPointID</th>\n",
              "      <th>GantryDirection</th>\n",
              "      <th>GantryLocation</th>\n",
              "      <th>GantryGPSLatitude</th>\n",
              "      <th>GantryGPSLongitude</th>\n",
              "      <th>GantryType</th>\n",
              "      <th>TotalVolume</th>\n",
              "    </tr>\n",
              "  </thead>\n",
              "  <tbody>\n",
              "    <tr>\n",
              "      <th>0</th>\n",
              "      <td>2018-07-01</td>\n",
              "      <td>M4</td>\n",
              "      <td>201901</td>\n",
              "      <td>00:14</td>\n",
              "      <td>3</td>\n",
              "      <td>Car</td>\n",
              "      <td>TS0101</td>\n",
              "      <td>W</td>\n",
              "      <td>Church St Exit</td>\n",
              "      <td>-33.83</td>\n",
              "      <td>151.00</td>\n",
              "      <td>Mainline</td>\n",
              "      <td>310</td>\n",
              "    </tr>\n",
              "    <tr>\n",
              "      <th>1</th>\n",
              "      <td>2018-07-01</td>\n",
              "      <td>M4</td>\n",
              "      <td>201901</td>\n",
              "      <td>00:14</td>\n",
              "      <td>3</td>\n",
              "      <td>Truck</td>\n",
              "      <td>TS0101</td>\n",
              "      <td>W</td>\n",
              "      <td>Church St Exit</td>\n",
              "      <td>-33.83</td>\n",
              "      <td>151.00</td>\n",
              "      <td>Mainline</td>\n",
              "      <td>4</td>\n",
              "    </tr>\n",
              "    <tr>\n",
              "      <th>2</th>\n",
              "      <td>2018-07-01</td>\n",
              "      <td>M4</td>\n",
              "      <td>201901</td>\n",
              "      <td>00:14</td>\n",
              "      <td>3</td>\n",
              "      <td>Car</td>\n",
              "      <td>TS0102</td>\n",
              "      <td>E</td>\n",
              "      <td>Church St Entry</td>\n",
              "      <td>-33.83</td>\n",
              "      <td>151.00</td>\n",
              "      <td>Mainline</td>\n",
              "      <td>120</td>\n",
              "    </tr>\n",
              "    <tr>\n",
              "      <th>3</th>\n",
              "      <td>2018-07-01</td>\n",
              "      <td>M4</td>\n",
              "      <td>201901</td>\n",
              "      <td>00:14</td>\n",
              "      <td>3</td>\n",
              "      <td>Truck</td>\n",
              "      <td>TS0102</td>\n",
              "      <td>E</td>\n",
              "      <td>Church St Entry</td>\n",
              "      <td>-33.83</td>\n",
              "      <td>151.00</td>\n",
              "      <td>Mainline</td>\n",
              "      <td>2</td>\n",
              "    </tr>\n",
              "    <tr>\n",
              "      <th>4</th>\n",
              "      <td>2018-07-01</td>\n",
              "      <td>M4</td>\n",
              "      <td>201901</td>\n",
              "      <td>00:14</td>\n",
              "      <td>3</td>\n",
              "      <td>Car</td>\n",
              "      <td>TS0201</td>\n",
              "      <td>W</td>\n",
              "      <td>James Ruse Dr Entry</td>\n",
              "      <td>-33.83</td>\n",
              "      <td>151.02</td>\n",
              "      <td>Ramp</td>\n",
              "      <td>23</td>\n",
              "    </tr>\n",
              "    <tr>\n",
              "      <th>5</th>\n",
              "      <td>2018-07-01</td>\n",
              "      <td>M4</td>\n",
              "      <td>201901</td>\n",
              "      <td>00:14</td>\n",
              "      <td>3</td>\n",
              "      <td>Car</td>\n",
              "      <td>TS0202</td>\n",
              "      <td>E</td>\n",
              "      <td>James Ruse Dr Exit</td>\n",
              "      <td>-33.83</td>\n",
              "      <td>151.02</td>\n",
              "      <td>Ramp</td>\n",
              "      <td>4</td>\n",
              "    </tr>\n",
              "    <tr>\n",
              "      <th>6</th>\n",
              "      <td>2018-07-01</td>\n",
              "      <td>M4</td>\n",
              "      <td>201901</td>\n",
              "      <td>00:14</td>\n",
              "      <td>3</td>\n",
              "      <td>Car</td>\n",
              "      <td>TS0301</td>\n",
              "      <td>E</td>\n",
              "      <td>James Ruse Dr Entry</td>\n",
              "      <td>-33.83</td>\n",
              "      <td>151.02</td>\n",
              "      <td>Ramp</td>\n",
              "      <td>43</td>\n",
              "    </tr>\n",
              "    <tr>\n",
              "      <th>7</th>\n",
              "      <td>2018-07-01</td>\n",
              "      <td>M4</td>\n",
              "      <td>201901</td>\n",
              "      <td>00:14</td>\n",
              "      <td>3</td>\n",
              "      <td>Car</td>\n",
              "      <td>TS0401</td>\n",
              "      <td>W</td>\n",
              "      <td>James Ruse Dr Exit</td>\n",
              "      <td>-33.83</td>\n",
              "      <td>151.04</td>\n",
              "      <td>Ramp</td>\n",
              "      <td>81</td>\n",
              "    </tr>\n",
              "    <tr>\n",
              "      <th>8</th>\n",
              "      <td>2018-07-01</td>\n",
              "      <td>M4</td>\n",
              "      <td>201901</td>\n",
              "      <td>00:14</td>\n",
              "      <td>3</td>\n",
              "      <td>Car</td>\n",
              "      <td>TS0501</td>\n",
              "      <td>E</td>\n",
              "      <td>Silverwater Rd Exit</td>\n",
              "      <td>-33.84</td>\n",
              "      <td>151.04</td>\n",
              "      <td>Ramp</td>\n",
              "      <td>20</td>\n",
              "    </tr>\n",
              "    <tr>\n",
              "      <th>9</th>\n",
              "      <td>2018-07-01</td>\n",
              "      <td>M4</td>\n",
              "      <td>201901</td>\n",
              "      <td>00:14</td>\n",
              "      <td>3</td>\n",
              "      <td>Car</td>\n",
              "      <td>TS0601</td>\n",
              "      <td>W</td>\n",
              "      <td>Silverwater Rd Entry</td>\n",
              "      <td>-33.84</td>\n",
              "      <td>151.04</td>\n",
              "      <td>Ramp</td>\n",
              "      <td>39</td>\n",
              "    </tr>\n",
              "  </tbody>\n",
              "</table>\n",
              "</div>"
            ],
            "text/plain": [
              "    DateTime AssetID  ...  GantryType TotalVolume\n",
              "0 2018-07-01      M4  ...    Mainline         310\n",
              "1 2018-07-01      M4  ...    Mainline           4\n",
              "2 2018-07-01      M4  ...    Mainline         120\n",
              "3 2018-07-01      M4  ...    Mainline           2\n",
              "4 2018-07-01      M4  ...        Ramp          23\n",
              "5 2018-07-01      M4  ...        Ramp           4\n",
              "6 2018-07-01      M4  ...        Ramp          43\n",
              "7 2018-07-01      M4  ...        Ramp          81\n",
              "8 2018-07-01      M4  ...        Ramp          20\n",
              "9 2018-07-01      M4  ...        Ramp          39\n",
              "\n",
              "[10 rows x 13 columns]"
            ]
          },
          "metadata": {
            "tags": []
          },
          "execution_count": 3
        }
      ]
    },
    {
      "cell_type": "code",
      "metadata": {
        "id": "uwTLFV4fjP_v",
        "colab_type": "code",
        "outputId": "96ac47cc-0d34-4277-eeb7-258fe5afa5a6",
        "colab": {
          "base_uri": "https://localhost:8080/",
          "height": 35
        }
      },
      "source": [
        "\n",
        "total_vehicles=df['TotalVolume'].sum()\n",
        "total_vehicles"
      ],
      "execution_count": 4,
      "outputs": [
        {
          "output_type": "execute_result",
          "data": {
            "text/plain": [
              "8583621"
            ]
          },
          "metadata": {
            "tags": []
          },
          "execution_count": 4
        }
      ]
    },
    {
      "cell_type": "code",
      "metadata": {
        "id": "KGHzo36kRZvl",
        "colab_type": "code",
        "outputId": "b85b46a3-29d2-416f-c6ea-98933ceade18",
        "colab": {
          "base_uri": "https://localhost:8080/",
          "height": 90
        }
      },
      "source": [
        "df.columns"
      ],
      "execution_count": 5,
      "outputs": [
        {
          "output_type": "execute_result",
          "data": {
            "text/plain": [
              "Index(['DateTime', 'AssetID', 'FinancialQtrID', 'IntervalEnd', 'Version',\n",
              "       'VehicleClass', 'TollPointID', 'GantryDirection', 'GantryLocation',\n",
              "       'GantryGPSLatitude', 'GantryGPSLongitude', 'GantryType', 'TotalVolume'],\n",
              "      dtype='object')"
            ]
          },
          "metadata": {
            "tags": []
          },
          "execution_count": 5
        }
      ]
    },
    {
      "cell_type": "code",
      "metadata": {
        "id": "mot98uc1me-c",
        "colab_type": "code",
        "outputId": "dd72fd65-4204-4f0a-9f08-1b28a324cb61",
        "colab": {
          "base_uri": "https://localhost:8080/",
          "height": 90
        }
      },
      "source": [
        "total_cars = df.loc[df['VehicleClass']=='Car', 'VehicleClass'].value_counts()\n",
        "print(f\"total cars rows {total_cars}\")\n",
        "\n",
        "total_trucks = df.loc[df['VehicleClass']=='Truck', 'VehicleClass'].value_counts()\n",
        "print(f\"total trucks rows {total_trucks}\")\n"
      ],
      "execution_count": 6,
      "outputs": [
        {
          "output_type": "stream",
          "text": [
            "total cars rows Car    49555\n",
            "Name: VehicleClass, dtype: int64\n",
            "total trucks rows Truck    45393\n",
            "Name: VehicleClass, dtype: int64\n"
          ],
          "name": "stdout"
        }
      ]
    },
    {
      "cell_type": "markdown",
      "metadata": {
        "id": "_hMu7yJDmARe",
        "colab_type": "text"
      },
      "source": [
        "## Check for null values\n",
        "\n"
      ]
    },
    {
      "cell_type": "code",
      "metadata": {
        "id": "XXI8_zrVl95q",
        "colab_type": "code",
        "outputId": "1a4ae2f5-efcd-4399-bc74-3af97e0aebda",
        "colab": {
          "base_uri": "https://localhost:8080/",
          "height": 35
        }
      },
      "source": [
        "df.isnull().values.any()"
      ],
      "execution_count": 7,
      "outputs": [
        {
          "output_type": "execute_result",
          "data": {
            "text/plain": [
              "False"
            ]
          },
          "metadata": {
            "tags": []
          },
          "execution_count": 7
        }
      ]
    },
    {
      "cell_type": "markdown",
      "metadata": {
        "id": "qWpleDfPmn7X",
        "colab_type": "text"
      },
      "source": [
        "## Rename column"
      ]
    },
    {
      "cell_type": "code",
      "metadata": {
        "id": "tx5XYTNPmnH2",
        "colab_type": "code",
        "outputId": "c8c0622f-e975-441c-d242-8d21b6f492ac",
        "colab": {
          "base_uri": "https://localhost:8080/",
          "height": 108
        }
      },
      "source": [
        "df.rename(columns={'TotalVolume': 'TotalTrafficVolume', 'VehicleClass':'VehicleType'}, inplace=True)\n",
        "df.columns"
      ],
      "execution_count": 8,
      "outputs": [
        {
          "output_type": "execute_result",
          "data": {
            "text/plain": [
              "Index(['DateTime', 'AssetID', 'FinancialQtrID', 'IntervalEnd', 'Version',\n",
              "       'VehicleType', 'TollPointID', 'GantryDirection', 'GantryLocation',\n",
              "       'GantryGPSLatitude', 'GantryGPSLongitude', 'GantryType',\n",
              "       'TotalTrafficVolume'],\n",
              "      dtype='object')"
            ]
          },
          "metadata": {
            "tags": []
          },
          "execution_count": 8
        }
      ]
    },
    {
      "cell_type": "code",
      "metadata": {
        "id": "-U1MbpaUmeQM",
        "colab_type": "code",
        "outputId": "a0929ac9-3354-4a82-89da-b12bdd026e68",
        "colab": {
          "base_uri": "https://localhost:8080/",
          "height": 253
        }
      },
      "source": [
        "df.values"
      ],
      "execution_count": 9,
      "outputs": [
        {
          "output_type": "execute_result",
          "data": {
            "text/plain": [
              "array([[Timestamp('2018-07-01 00:00:00'), 'M4', 201901, ..., 151.0,\n",
              "        'Mainline', 310],\n",
              "       [Timestamp('2018-07-01 00:00:00'), 'M4', 201901, ..., 151.0,\n",
              "        'Mainline', 4],\n",
              "       [Timestamp('2018-07-01 00:00:00'), 'M4', 201901, ..., 151.0,\n",
              "        'Mainline', 120],\n",
              "       ...,\n",
              "       [Timestamp('2018-07-31 23:45:00'), 'M4', 201901, ..., 151.07,\n",
              "        'Ramp', 24],\n",
              "       [Timestamp('2018-07-31 23:45:00'), 'M4', 201901, ..., 151.07,\n",
              "        'Ramp', 5],\n",
              "       [Timestamp('2018-07-31 23:45:00'), 'M4', 201901, ..., 151.07,\n",
              "        'Mainline + G', 17]], dtype=object)"
            ]
          },
          "metadata": {
            "tags": []
          },
          "execution_count": 9
        }
      ]
    },
    {
      "cell_type": "markdown",
      "metadata": {
        "id": "Q2wB-d8dhp2q",
        "colab_type": "text"
      },
      "source": [
        "##Scatter plot of latitude and longitude"
      ]
    },
    {
      "cell_type": "code",
      "metadata": {
        "id": "LelSIjy6hqd1",
        "colab_type": "code",
        "colab": {
          "base_uri": "https://localhost:8080/",
          "height": 269
        },
        "outputId": "b7a0af97-ff4d-4137-968e-2c378043b6af"
      },
      "source": [
        "plt.scatter(x=df['GantryGPSLatitude'], y=df['GantryGPSLongitude'])\n",
        "plt.show()"
      ],
      "execution_count": 10,
      "outputs": [
        {
          "output_type": "display_data",
          "data": {
            "image/png": "[encoded data removed]",
            "text/plain": [
              "<Figure size 432x288 with 1 Axes>"
            ]
          },
          "metadata": {
            "tags": []
          }
        }
      ]
    },
    {
      "cell_type": "code",
      "metadata": {
        "id": "EOSNbYlzia6W",
        "colab_type": "code",
        "colab": {
          "base_uri": "https://localhost:8080/",
          "height": 381
        },
        "outputId": "a35c5a75-bc64-4af0-f55c-c9689e8e94ed"
      },
      "source": [
        "##Temp-remove - correlation heatmap\n",
        "import seaborn as sns\n",
        "corr = df.corr()\n",
        "sns.heatmap(corr, xticklabels=corr.columns, yticklabels=corr.columns, cmap=sns.diverging_palette(220, 10, as_cmap=True))\n"
      ],
      "execution_count": 14,
      "outputs": [
        {
          "output_type": "execute_result",
          "data": {
            "text/plain": [
              "<matplotlib.axes._subplots.AxesSubplot at 0x7f94429a99b0>"
            ]
          },
          "metadata": {
            "tags": []
          },
          "execution_count": 14
        },
        {
          "output_type": "display_data",
          "data": {
            "image/png": "[encoded data removed]",
            "text/plain": [
              "<Figure size 432x288 with 2 Axes>"
            ]
          },
          "metadata": {
            "tags": []
          }
        }
      ]
    },
    {
      "cell_type": "markdown",
      "metadata": {
        "id": "Uevzw96xsoxD",
        "colab_type": "text"
      },
      "source": [
        "## Checking latitute and longitude against GantryLocation"
      ]
    },
    {
      "cell_type": "code",
      "metadata": {
        "id": "Kpko6jXMsuPP",
        "colab_type": "code",
        "outputId": "5530c66a-9c79-4df1-e027-06d084ca733f",
        "colab": {
          "base_uri": "https://localhost:8080/",
          "height": 243
        }
      },
      "source": [
        "temp_df=df[['GantryLocation','GantryGPSLatitude','GantryGPSLongitude','TollPointID']].groupby(by=['GantryLocation'])\n",
        "print(temp_df.first())"
      ],
      "execution_count": 0,
      "outputs": [
        {
          "output_type": "stream",
          "text": [
            "                            GantryGPSLatitude  GantryGPSLongitude TollPointID\n",
            "GantryLocation                                                               \n",
            "Church St Entry                        -33.83              151.00      TS0102\n",
            "Church St Exit                         -33.83              151.00      TS0101\n",
            "Hill Rd Entry                          -33.85              151.05      TS1001\n",
            "Hill Rd Exit                           -33.85              151.05      TS0901\n",
            "Homebush Bay Dr (NB) Entry             -33.86              151.07      TS1301\n",
            "Homebush Bay Dr Entry                  -33.86              151.07      TS1401\n",
            "Homebush Bay Dr Exit                   -33.86              151.07      TS1201\n",
            "James Ruse Dr Entry                    -33.83              151.02      TS0201\n",
            "James Ruse Dr Exit                     -33.83              151.02      TS0202\n",
            "Silverwater Rd Entry                   -33.84              151.04      TS0601\n",
            "Silverwater Rd Exit                    -33.84              151.04      TS0501\n"
          ],
          "name": "stdout"
        }
      ]
    },
    {
      "cell_type": "code",
      "metadata": {
        "id": "K8tLd1sqtQ1Z",
        "colab_type": "code",
        "outputId": "a56f5504-1fe5-419b-fe24-90be7c63b935",
        "colab": {
          "base_uri": "https://localhost:8080/",
          "height": 69
        }
      },
      "source": [
        "print(df['AssetID'].unique())\n",
        "print(df['Version'].unique())\n",
        "print(df['FinancialQtrID'].unique())\n",
        "#print(df['Date'].unique())"
      ],
      "execution_count": 0,
      "outputs": [
        {
          "output_type": "stream",
          "text": [
            "['M4']\n",
            "[3]\n",
            "[201901]\n"
          ],
          "name": "stdout"
        }
      ]
    },
    {
      "cell_type": "markdown",
      "metadata": {
        "id": "PT4jT9cyswAo",
        "colab_type": "text"
      },
      "source": [
        "## Drop unwanted columns like latitude and longitude"
      ]
    },
    {
      "cell_type": "code",
      "metadata": {
        "id": "cOg5gb0AszT9",
        "colab_type": "code",
        "outputId": "398423b5-f79d-4482-c370-443bd8202084",
        "colab": {
          "base_uri": "https://localhost:8080/",
          "height": 69
        }
      },
      "source": [
        "df.drop(['GantryGPSLatitude', 'GantryGPSLongitude','AssetID', 'Version','TollPointID','FinancialQtrID'], axis = 1, inplace=True)\n",
        "df.columns"
      ],
      "execution_count": 0,
      "outputs": [
        {
          "output_type": "execute_result",
          "data": {
            "text/plain": [
              "Index(['DateTime', 'IntervalEnd', 'VehicleType', 'GantryDirection',\n",
              "       'GantryLocation', 'GantryType', 'TotalTrafficVolume'],\n",
              "      dtype='object')"
            ]
          },
          "metadata": {
            "tags": []
          },
          "execution_count": 115
        }
      ]
    },
    {
      "cell_type": "code",
      "metadata": {
        "id": "fYEOOKg8X_DY",
        "colab_type": "code",
        "outputId": "6aaac992-caec-4833-c173-672c4f53b5a8",
        "colab": {
          "base_uri": "https://localhost:8080/",
          "height": 104
        }
      },
      "source": [
        "df['GantryLocation'].unique()"
      ],
      "execution_count": 0,
      "outputs": [
        {
          "output_type": "execute_result",
          "data": {
            "text/plain": [
              "array(['Church St Exit', 'Church St Entry', 'James Ruse Dr Entry',\n",
              "       'James Ruse Dr Exit', 'Silverwater Rd Exit',\n",
              "       'Silverwater Rd Entry', 'Hill Rd Exit', 'Hill Rd Entry',\n",
              "       'Homebush Bay Dr Exit', 'Homebush Bay Dr (NB) Entry',\n",
              "       'Homebush Bay Dr Entry'], dtype=object)"
            ]
          },
          "metadata": {
            "tags": []
          },
          "execution_count": 116
        }
      ]
    },
    {
      "cell_type": "code",
      "metadata": {
        "id": "f1Y5isJHYVW2",
        "colab_type": "code",
        "outputId": "8d194380-0a72-498c-f53b-9b9ecdbcbdee",
        "colab": {
          "base_uri": "https://localhost:8080/",
          "height": 34
        }
      },
      "source": [
        "df['VehicleType'].unique()"
      ],
      "execution_count": 0,
      "outputs": [
        {
          "output_type": "execute_result",
          "data": {
            "text/plain": [
              "array(['Car', 'Truck'], dtype=object)"
            ]
          },
          "metadata": {
            "tags": []
          },
          "execution_count": 117
        }
      ]
    },
    {
      "cell_type": "code",
      "metadata": {
        "id": "APKyZvj-YlHg",
        "colab_type": "code",
        "outputId": "559967b2-8d69-490f-eb0d-a02896874055",
        "colab": {
          "base_uri": "https://localhost:8080/",
          "height": 34
        }
      },
      "source": [
        "df['GantryType'].unique()"
      ],
      "execution_count": 0,
      "outputs": [
        {
          "output_type": "execute_result",
          "data": {
            "text/plain": [
              "array(['Mainline', 'Ramp', 'Mainline + G'], dtype=object)"
            ]
          },
          "metadata": {
            "tags": []
          },
          "execution_count": 118
        }
      ]
    },
    {
      "cell_type": "code",
      "metadata": {
        "id": "Ac6EJKOMZINl",
        "colab_type": "code",
        "outputId": "fe858fef-661c-4fe0-9b6a-1e28193ead72",
        "colab": {
          "base_uri": "https://localhost:8080/",
          "height": 426
        }
      },
      "source": [
        "group_by_gantry_type = df[['GantryType', 'VehicleType','TotalTrafficVolume']].groupby(by=['GantryType', 'VehicleType'])\n",
        "group_by_gantry_type.head(2)\n"
      ],
      "execution_count": 0,
      "outputs": [
        {
          "output_type": "execute_result",
          "data": {
            "text/html": [
              "<div>\n",
              "<style scoped>\n",
              "    .dataframe tbody tr th:only-of-type {\n",
              "        vertical-align: middle;\n",
              "    }\n",
              "\n",
              "    .dataframe tbody tr th {\n",
              "        vertical-align: top;\n",
              "    }\n",
              "\n",
              "    .dataframe thead th {\n",
              "        text-align: right;\n",
              "    }\n",
              "</style>\n",
              "<table border=\"1\" class=\"dataframe\">\n",
              "  <thead>\n",
              "    <tr style=\"text-align: right;\">\n",
              "      <th></th>\n",
              "      <th>GantryType</th>\n",
              "      <th>VehicleType</th>\n",
              "      <th>TotalTrafficVolume</th>\n",
              "    </tr>\n",
              "  </thead>\n",
              "  <tbody>\n",
              "    <tr>\n",
              "      <th>0</th>\n",
              "      <td>Mainline</td>\n",
              "      <td>Car</td>\n",
              "      <td>310</td>\n",
              "    </tr>\n",
              "    <tr>\n",
              "      <th>1</th>\n",
              "      <td>Mainline</td>\n",
              "      <td>Truck</td>\n",
              "      <td>4</td>\n",
              "    </tr>\n",
              "    <tr>\n",
              "      <th>2</th>\n",
              "      <td>Mainline</td>\n",
              "      <td>Car</td>\n",
              "      <td>120</td>\n",
              "    </tr>\n",
              "    <tr>\n",
              "      <th>3</th>\n",
              "      <td>Mainline</td>\n",
              "      <td>Truck</td>\n",
              "      <td>2</td>\n",
              "    </tr>\n",
              "    <tr>\n",
              "      <th>4</th>\n",
              "      <td>Ramp</td>\n",
              "      <td>Car</td>\n",
              "      <td>23</td>\n",
              "    </tr>\n",
              "    <tr>\n",
              "      <th>5</th>\n",
              "      <td>Ramp</td>\n",
              "      <td>Car</td>\n",
              "      <td>4</td>\n",
              "    </tr>\n",
              "    <tr>\n",
              "      <th>10</th>\n",
              "      <td>Ramp</td>\n",
              "      <td>Truck</td>\n",
              "      <td>1</td>\n",
              "    </tr>\n",
              "    <tr>\n",
              "      <th>13</th>\n",
              "      <td>Ramp</td>\n",
              "      <td>Truck</td>\n",
              "      <td>1</td>\n",
              "    </tr>\n",
              "    <tr>\n",
              "      <th>22</th>\n",
              "      <td>Mainline + G</td>\n",
              "      <td>Car</td>\n",
              "      <td>266</td>\n",
              "    </tr>\n",
              "    <tr>\n",
              "      <th>23</th>\n",
              "      <td>Mainline + G</td>\n",
              "      <td>Truck</td>\n",
              "      <td>3</td>\n",
              "    </tr>\n",
              "    <tr>\n",
              "      <th>49</th>\n",
              "      <td>Mainline + G</td>\n",
              "      <td>Car</td>\n",
              "      <td>204</td>\n",
              "    </tr>\n",
              "    <tr>\n",
              "      <th>50</th>\n",
              "      <td>Mainline + G</td>\n",
              "      <td>Truck</td>\n",
              "      <td>1</td>\n",
              "    </tr>\n",
              "  </tbody>\n",
              "</table>\n",
              "</div>"
            ],
            "text/plain": [
              "      GantryType VehicleType  TotalTrafficVolume\n",
              "0       Mainline         Car                 310\n",
              "1       Mainline       Truck                   4\n",
              "2       Mainline         Car                 120\n",
              "3       Mainline       Truck                   2\n",
              "4           Ramp         Car                  23\n",
              "5           Ramp         Car                   4\n",
              "10          Ramp       Truck                   1\n",
              "13          Ramp       Truck                   1\n",
              "22  Mainline + G         Car                 266\n",
              "23  Mainline + G       Truck                   3\n",
              "49  Mainline + G         Car                 204\n",
              "50  Mainline + G       Truck                   1"
            ]
          },
          "metadata": {
            "tags": []
          },
          "execution_count": 119
        }
      ]
    },
    {
      "cell_type": "code",
      "metadata": {
        "id": "yuCsnsB8jRdY",
        "colab_type": "code",
        "outputId": "9af6c729-18da-42fa-b4d9-730da43757c1",
        "colab": {
          "base_uri": "https://localhost:8080/",
          "height": 477
        }
      },
      "source": [
        "car_data_avg = group_by_gantry_type.mean()\n",
        "car_data_count = group_by_gantry_type.count()\n",
        "\n",
        "print(car_data_avg.head(2))\n",
        "print(car_data_count)\n",
        "\n",
        "car_data_count"
      ],
      "execution_count": 0,
      "outputs": [
        {
          "output_type": "stream",
          "text": [
            "                        TotalTrafficVolume\n",
            "GantryType VehicleType                    \n",
            "Mainline   Car                  411.044388\n",
            "           Truck                 36.510095\n",
            "                          TotalTrafficVolume\n",
            "GantryType   VehicleType                    \n",
            "Mainline     Car                        8651\n",
            "             Truck                      8618\n",
            "Mainline + G Car                        2961\n",
            "             Truck                      2862\n",
            "Ramp         Car                       37943\n",
            "             Truck                     33913\n"
          ],
          "name": "stdout"
        },
        {
          "output_type": "execute_result",
          "data": {
            "text/html": [
              "<div>\n",
              "<style scoped>\n",
              "    .dataframe tbody tr th:only-of-type {\n",
              "        vertical-align: middle;\n",
              "    }\n",
              "\n",
              "    .dataframe tbody tr th {\n",
              "        vertical-align: top;\n",
              "    }\n",
              "\n",
              "    .dataframe thead th {\n",
              "        text-align: right;\n",
              "    }\n",
              "</style>\n",
              "<table border=\"1\" class=\"dataframe\">\n",
              "  <thead>\n",
              "    <tr style=\"text-align: right;\">\n",
              "      <th></th>\n",
              "      <th></th>\n",
              "      <th>TotalTrafficVolume</th>\n",
              "    </tr>\n",
              "    <tr>\n",
              "      <th>GantryType</th>\n",
              "      <th>VehicleType</th>\n",
              "      <th></th>\n",
              "    </tr>\n",
              "  </thead>\n",
              "  <tbody>\n",
              "    <tr>\n",
              "      <th rowspan=\"2\" valign=\"top\">Mainline</th>\n",
              "      <th>Car</th>\n",
              "      <td>8651</td>\n",
              "    </tr>\n",
              "    <tr>\n",
              "      <th>Truck</th>\n",
              "      <td>8618</td>\n",
              "    </tr>\n",
              "    <tr>\n",
              "      <th rowspan=\"2\" valign=\"top\">Mainline + G</th>\n",
              "      <th>Car</th>\n",
              "      <td>2961</td>\n",
              "    </tr>\n",
              "    <tr>\n",
              "      <th>Truck</th>\n",
              "      <td>2862</td>\n",
              "    </tr>\n",
              "    <tr>\n",
              "      <th rowspan=\"2\" valign=\"top\">Ramp</th>\n",
              "      <th>Car</th>\n",
              "      <td>37943</td>\n",
              "    </tr>\n",
              "    <tr>\n",
              "      <th>Truck</th>\n",
              "      <td>33913</td>\n",
              "    </tr>\n",
              "  </tbody>\n",
              "</table>\n",
              "</div>"
            ],
            "text/plain": [
              "                          TotalTrafficVolume\n",
              "GantryType   VehicleType                    \n",
              "Mainline     Car                        8651\n",
              "             Truck                      8618\n",
              "Mainline + G Car                        2961\n",
              "             Truck                      2862\n",
              "Ramp         Car                       37943\n",
              "             Truck                     33913"
            ]
          },
          "metadata": {
            "tags": []
          },
          "execution_count": 120
        }
      ]
    },
    {
      "cell_type": "code",
      "metadata": {
        "id": "bXHrTP41d3-0",
        "colab_type": "code",
        "outputId": "41c4febc-37b1-4f1d-d378-35e14411b265",
        "colab": {
          "base_uri": "https://localhost:8080/",
          "height": 286
        }
      },
      "source": [
        "car_data_count.sort_values(by='TotalTrafficVolume').plot(kind='barh')"
      ],
      "execution_count": 0,
      "outputs": [
        {
          "output_type": "execute_result",
          "data": {
            "text/plain": [
              "<matplotlib.axes._subplots.AxesSubplot at 0x7f5a6d932cf8>"
            ]
          },
          "metadata": {
            "tags": []
          },
          "execution_count": 121
        },
        {
          "output_type": "display_data",
          "data": {
            "image/png": "[encoded data removed]",
            "text/plain": [
              "<Figure size 432x288 with 1 Axes>"
            ]
          },
          "metadata": {
            "tags": []
          }
        }
      ]
    },
    {
      "cell_type": "code",
      "metadata": {
        "id": "qyVXyxTXrjaS",
        "colab_type": "code",
        "outputId": "231b77ed-ca93-46cf-c11a-4ce3b7d89fbd",
        "colab": {
          "base_uri": "https://localhost:8080/",
          "height": 206
        }
      },
      "source": [
        "df.head()\n",
        "\n",
        "#df.shape[0]"
      ],
      "execution_count": 0,
      "outputs": [
        {
          "output_type": "execute_result",
          "data": {
            "text/html": [
              "<div>\n",
              "<style scoped>\n",
              "    .dataframe tbody tr th:only-of-type {\n",
              "        vertical-align: middle;\n",
              "    }\n",
              "\n",
              "    .dataframe tbody tr th {\n",
              "        vertical-align: top;\n",
              "    }\n",
              "\n",
              "    .dataframe thead th {\n",
              "        text-align: right;\n",
              "    }\n",
              "</style>\n",
              "<table border=\"1\" class=\"dataframe\">\n",
              "  <thead>\n",
              "    <tr style=\"text-align: right;\">\n",
              "      <th></th>\n",
              "      <th>DateTime</th>\n",
              "      <th>IntervalEnd</th>\n",
              "      <th>VehicleType</th>\n",
              "      <th>GantryDirection</th>\n",
              "      <th>GantryLocation</th>\n",
              "      <th>GantryType</th>\n",
              "      <th>TotalTrafficVolume</th>\n",
              "    </tr>\n",
              "  </thead>\n",
              "  <tbody>\n",
              "    <tr>\n",
              "      <th>0</th>\n",
              "      <td>2018-07-01</td>\n",
              "      <td>00:14</td>\n",
              "      <td>Car</td>\n",
              "      <td>W</td>\n",
              "      <td>Church St Exit</td>\n",
              "      <td>Mainline</td>\n",
              "      <td>310</td>\n",
              "    </tr>\n",
              "    <tr>\n",
              "      <th>1</th>\n",
              "      <td>2018-07-01</td>\n",
              "      <td>00:14</td>\n",
              "      <td>Truck</td>\n",
              "      <td>W</td>\n",
              "      <td>Church St Exit</td>\n",
              "      <td>Mainline</td>\n",
              "      <td>4</td>\n",
              "    </tr>\n",
              "    <tr>\n",
              "      <th>2</th>\n",
              "      <td>2018-07-01</td>\n",
              "      <td>00:14</td>\n",
              "      <td>Car</td>\n",
              "      <td>E</td>\n",
              "      <td>Church St Entry</td>\n",
              "      <td>Mainline</td>\n",
              "      <td>120</td>\n",
              "    </tr>\n",
              "    <tr>\n",
              "      <th>3</th>\n",
              "      <td>2018-07-01</td>\n",
              "      <td>00:14</td>\n",
              "      <td>Truck</td>\n",
              "      <td>E</td>\n",
              "      <td>Church St Entry</td>\n",
              "      <td>Mainline</td>\n",
              "      <td>2</td>\n",
              "    </tr>\n",
              "    <tr>\n",
              "      <th>4</th>\n",
              "      <td>2018-07-01</td>\n",
              "      <td>00:14</td>\n",
              "      <td>Car</td>\n",
              "      <td>W</td>\n",
              "      <td>James Ruse Dr Entry</td>\n",
              "      <td>Ramp</td>\n",
              "      <td>23</td>\n",
              "    </tr>\n",
              "  </tbody>\n",
              "</table>\n",
              "</div>"
            ],
            "text/plain": [
              "    DateTime IntervalEnd  ... GantryType TotalTrafficVolume\n",
              "0 2018-07-01       00:14  ...   Mainline                310\n",
              "1 2018-07-01       00:14  ...   Mainline                  4\n",
              "2 2018-07-01       00:14  ...   Mainline                120\n",
              "3 2018-07-01       00:14  ...   Mainline                  2\n",
              "4 2018-07-01       00:14  ...       Ramp                 23\n",
              "\n",
              "[5 rows x 7 columns]"
            ]
          },
          "metadata": {
            "tags": []
          },
          "execution_count": 122
        }
      ]
    },
    {
      "cell_type": "code",
      "metadata": {
        "id": "qKKrj6mFqSQU",
        "colab_type": "code",
        "outputId": "a04684ca-3e85-4293-838c-0439439c34d3",
        "colab": {
          "base_uri": "https://localhost:8080/",
          "height": 500
        }
      },
      "source": [
        "\n",
        "# Draw Plot\n",
        "def plot_df(df, x, y, title=\"\", xlabel='Date', ylabel='Traffic volume', dpi=100):\n",
        "    plt.figure(figsize=(16,5), dpi=dpi)\n",
        "    plt.plot(x, y, color='tab:red')\n",
        "    plt.gca().set(title=title, xlabel=xlabel, ylabel=ylabel)\n",
        "    plt.show()\n",
        "\n",
        "plot_df(df, x=df['DateTime'], y=df['TotalTrafficVolume'], title='Flow of traffic in M4.') "
      ],
      "execution_count": 0,
      "outputs": [
        {
          "output_type": "display_data",
          "data": {
            "image/png": "[encoded data removed]",
            "text/plain": [
              "<Figure size 1600x500 with 1 Axes>"
            ]
          },
          "metadata": {
            "tags": []
          }
        }
      ]
    },
    {
      "cell_type": "markdown",
      "metadata": {
        "id": "0oNHkzChyFl8",
        "colab_type": "text"
      },
      "source": [
        "##Loading all M4 data for 2018-19"
      ]
    },
    {
      "cell_type": "code",
      "metadata": {
        "id": "WOkXyxbgvGKW",
        "colab_type": "code",
        "colab": {}
      },
      "source": [
        "urls=[\n",
        "'https://raw.githubusercontent.com/hrai/M4-Data-Analysis/master/data/M4_passages_2018-07.csv',\n",
        "'https://raw.githubusercontent.com/hrai/M4-Data-Analysis/master/data/M4_passages_2018-08.csv',\n",
        "'https://raw.githubusercontent.com/hrai/M4-Data-Analysis/master/data/M4_passages_2018-09.csv',\n",
        "'https://raw.githubusercontent.com/hrai/M4-Data-Analysis/master/data/M4_passages_2018-10.csv',\n",
        "'https://raw.githubusercontent.com/hrai/M4-Data-Analysis/master/data/M4_passages_2018-11.csv',\n",
        "'https://raw.githubusercontent.com/hrai/M4-Data-Analysis/master/data/M4_passages_2018-12.csv',\n",
        "'https://raw.githubusercontent.com/hrai/M4-Data-Analysis/master/data/M4_passages_2019-01.csv',\n",
        "'https://raw.githubusercontent.com/hrai/M4-Data-Analysis/master/data/M4_passages_2019-02.csv',\n",
        "'https://raw.githubusercontent.com/hrai/M4-Data-Analysis/master/data/M4_passages_2019-03.csv',\n",
        "'https://raw.githubusercontent.com/hrai/M4-Data-Analysis/master/data/M4_passages_2019-04.csv',\n",
        "'https://raw.githubusercontent.com/hrai/M4-Data-Analysis/master/data/M4_passages_2019-05.csv',\n",
        "'https://raw.githubusercontent.com/hrai/M4-Data-Analysis/master/data/M4_passages_2019-06.csv'\n",
        "]\n",
        "\n",
        "df_all = pd.concat(pd.read_csv(url, parse_dates={'DateTime': ['Date', 'IntervalStart']}) for url in urls)"
      ],
      "execution_count": 0,
      "outputs": []
    },
    {
      "cell_type": "code",
      "metadata": {
        "id": "D_tQwIbkyfXU",
        "colab_type": "code",
        "outputId": "8a4d2ca5-590b-43f8-8acf-f1df0299741b",
        "colab": {
          "base_uri": "https://localhost:8080/",
          "height": 121
        }
      },
      "source": [
        "rows,cols=df_all.shape\n",
        "print(rows)\n",
        "\n",
        "df_all.columns"
      ],
      "execution_count": 0,
      "outputs": [
        {
          "output_type": "stream",
          "text": [
            "1116404\n"
          ],
          "name": "stdout"
        },
        {
          "output_type": "execute_result",
          "data": {
            "text/plain": [
              "Index(['DateTime', 'AssetID', 'FinancialQtrID', 'IntervalEnd', 'Version',\n",
              "       'VehicleType', 'TollPointID', 'GantryDirection', 'GantryLocation',\n",
              "       'GantryGPSLatitude', 'GantryGPSLongitude', 'GantryType',\n",
              "       'TotalTrafficVolume'],\n",
              "      dtype='object')"
            ]
          },
          "metadata": {
            "tags": []
          },
          "execution_count": 130
        }
      ]
    },
    {
      "cell_type": "code",
      "metadata": {
        "id": "NSWHmvtHzhLE",
        "colab_type": "code",
        "outputId": "eb8845eb-066c-4e88-ff51-40ff97560ae1",
        "colab": {
          "base_uri": "https://localhost:8080/",
          "height": 104
        }
      },
      "source": [
        "\n",
        "df_all.rename(columns={'TotalVolume': 'TotalTrafficVolume', 'VehicleClass':'VehicleType'}, inplace=True)\n",
        "df_all.columns"
      ],
      "execution_count": 0,
      "outputs": [
        {
          "output_type": "execute_result",
          "data": {
            "text/plain": [
              "Index(['DateTime', 'AssetID', 'FinancialQtrID', 'IntervalEnd', 'Version',\n",
              "       'VehicleType', 'TollPointID', 'GantryDirection', 'GantryLocation',\n",
              "       'GantryGPSLatitude', 'GantryGPSLongitude', 'GantryType',\n",
              "       'TotalTrafficVolume'],\n",
              "      dtype='object')"
            ]
          },
          "metadata": {
            "tags": []
          },
          "execution_count": 131
        }
      ]
    },
    {
      "cell_type": "code",
      "metadata": {
        "id": "kNWbjPgLyKl4",
        "colab_type": "code",
        "outputId": "8ad99ba3-641d-4c51-d089-d07c3a2be395",
        "colab": {
          "base_uri": "https://localhost:8080/",
          "height": 500
        }
      },
      "source": [
        "\n",
        "plot_df(df_all, x=df_all['DateTime'], y=df_all['TotalTrafficVolume'], title='Flow of traffic in M4.') "
      ],
      "execution_count": 0,
      "outputs": [
        {
          "output_type": "display_data",
          "data": {
            "image/png": "[encoded data removed]",
            "text/plain": [
              "<Figure size 1600x500 with 1 Axes>"
            ]
          },
          "metadata": {
            "tags": []
          }
        }
      ]
    },
    {
      "cell_type": "markdown",
      "metadata": {
        "id": "o9OTbPcAsWAi",
        "colab_type": "text"
      },
      "source": [
        ""
      ]
    }
  ]
}