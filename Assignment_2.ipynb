{
  "nbformat": 4,
  "nbformat_minor": 0,
  "metadata": {
    "colab": {
      "name": "Assignment 2.ipynb",
      "version": "0.3.2",
      "provenance": [],
      "include_colab_link": true
    },
    "kernelspec": {
      "name": "python3",
      "display_name": "Python 3"
    }
  },
  "cells": [
    {
      "cell_type": "markdown",
      "metadata": {
        "id": "view-in-github",
        "colab_type": "text"
      },
      "source": [
        "<a href=\"https://colab.research.google.com/github/hrai/M4-Data-Analysis/blob/master/Assignment_2.ipynb\" target=\"_parent\"><img src=\"https://colab.research.google.com/assets/colab-badge.svg\" alt=\"Open In Colab\"/></a>"
      ]
    },
    {
      "cell_type": "code",
      "metadata": {
        "id": "VTFfssmFM1Ah",
        "colab_type": "code",
        "colab": {}
      },
      "source": [
        "import pandas as pd\n",
        "\n",
        "import matplotlib.pyplot as plt\n",
        "\n",
        "url='https://raw.githubusercontent.com/hrai/M4-Data-Analysis/master/data/M4_passages_2018-07.csv'\n",
        "df = pd.read_csv(url)\n"
      ],
      "execution_count": 0,
      "outputs": []
    },
    {
      "cell_type": "code",
      "metadata": {
        "id": "dZ9YsVU2RPl3",
        "colab_type": "code",
        "outputId": "a9d72cad-f20a-4d50-d57c-7cf43568b89f",
        "colab": {
          "base_uri": "https://localhost:8080/",
          "height": 163
        }
      },
      "source": [
        "df.items\n",
        "\n",
        "df[:3]"
      ],
      "execution_count": 29,
      "outputs": [
        {
          "output_type": "execute_result",
          "data": {
            "text/html": [
              "<div>\n",
              "<style scoped>\n",
              "    .dataframe tbody tr th:only-of-type {\n",
              "        vertical-align: middle;\n",
              "    }\n",
              "\n",
              "    .dataframe tbody tr th {\n",
              "        vertical-align: top;\n",
              "    }\n",
              "\n",
              "    .dataframe thead th {\n",
              "        text-align: right;\n",
              "    }\n",
              "</style>\n",
              "<table border=\"1\" class=\"dataframe\">\n",
              "  <thead>\n",
              "    <tr style=\"text-align: right;\">\n",
              "      <th></th>\n",
              "      <th>AssetID</th>\n",
              "      <th>FinancialQtrID</th>\n",
              "      <th>Date</th>\n",
              "      <th>IntervalStart</th>\n",
              "      <th>IntervalEnd</th>\n",
              "      <th>Version</th>\n",
              "      <th>VehicleClass</th>\n",
              "      <th>TollPointID</th>\n",
              "      <th>GantryDirection</th>\n",
              "      <th>GantryLocation</th>\n",
              "      <th>GantryGPSLatitude</th>\n",
              "      <th>GantryGPSLongitude</th>\n",
              "      <th>GantryType</th>\n",
              "      <th>TotalVolume</th>\n",
              "    </tr>\n",
              "  </thead>\n",
              "  <tbody>\n",
              "    <tr>\n",
              "      <th>0</th>\n",
              "      <td>M4</td>\n",
              "      <td>201901</td>\n",
              "      <td>2018-07-01</td>\n",
              "      <td>00:00</td>\n",
              "      <td>00:14</td>\n",
              "      <td>3</td>\n",
              "      <td>Car</td>\n",
              "      <td>TS0101</td>\n",
              "      <td>W</td>\n",
              "      <td>Church St Exit</td>\n",
              "      <td>-33.83</td>\n",
              "      <td>151.0</td>\n",
              "      <td>Mainline</td>\n",
              "      <td>310</td>\n",
              "    </tr>\n",
              "    <tr>\n",
              "      <th>1</th>\n",
              "      <td>M4</td>\n",
              "      <td>201901</td>\n",
              "      <td>2018-07-01</td>\n",
              "      <td>00:00</td>\n",
              "      <td>00:14</td>\n",
              "      <td>3</td>\n",
              "      <td>Truck</td>\n",
              "      <td>TS0101</td>\n",
              "      <td>W</td>\n",
              "      <td>Church St Exit</td>\n",
              "      <td>-33.83</td>\n",
              "      <td>151.0</td>\n",
              "      <td>Mainline</td>\n",
              "      <td>4</td>\n",
              "    </tr>\n",
              "    <tr>\n",
              "      <th>2</th>\n",
              "      <td>M4</td>\n",
              "      <td>201901</td>\n",
              "      <td>2018-07-01</td>\n",
              "      <td>00:00</td>\n",
              "      <td>00:14</td>\n",
              "      <td>3</td>\n",
              "      <td>Car</td>\n",
              "      <td>TS0102</td>\n",
              "      <td>E</td>\n",
              "      <td>Church St Entry</td>\n",
              "      <td>-33.83</td>\n",
              "      <td>151.0</td>\n",
              "      <td>Mainline</td>\n",
              "      <td>120</td>\n",
              "    </tr>\n",
              "  </tbody>\n",
              "</table>\n",
              "</div>"
            ],
            "text/plain": [
              "  AssetID  FinancialQtrID  ... GantryType TotalVolume\n",
              "0      M4          201901  ...   Mainline         310\n",
              "1      M4          201901  ...   Mainline           4\n",
              "2      M4          201901  ...   Mainline         120\n",
              "\n",
              "[3 rows x 14 columns]"
            ]
          },
          "metadata": {
            "tags": []
          },
          "execution_count": 29
        }
      ]
    },
    {
      "cell_type": "code",
      "metadata": {
        "id": "KGHzo36kRZvl",
        "colab_type": "code",
        "outputId": "1222663d-f41b-4316-fd69-033e07e79e88",
        "colab": {
          "base_uri": "https://localhost:8080/",
          "height": 104
        }
      },
      "source": [
        "df.columns"
      ],
      "execution_count": 30,
      "outputs": [
        {
          "output_type": "execute_result",
          "data": {
            "text/plain": [
              "Index(['AssetID', 'FinancialQtrID', 'Date', 'IntervalStart', 'IntervalEnd',\n",
              "       'Version', 'VehicleClass', 'TollPointID', 'GantryDirection',\n",
              "       'GantryLocation', 'GantryGPSLatitude', 'GantryGPSLongitude',\n",
              "       'GantryType', 'TotalVolume'],\n",
              "      dtype='object')"
            ]
          },
          "metadata": {
            "tags": []
          },
          "execution_count": 30
        }
      ]
    },
    {
      "cell_type": "markdown",
      "metadata": {
        "id": "_hMu7yJDmARe",
        "colab_type": "text"
      },
      "source": [
        "## Check for null values\n",
        "\n"
      ]
    },
    {
      "cell_type": "code",
      "metadata": {
        "id": "XXI8_zrVl95q",
        "colab_type": "code",
        "outputId": "a10a89e2-f88a-4180-affa-3ccf674165ba",
        "colab": {
          "base_uri": "https://localhost:8080/",
          "height": 34
        }
      },
      "source": [
        "df.isnull().values.any()"
      ],
      "execution_count": 31,
      "outputs": [
        {
          "output_type": "execute_result",
          "data": {
            "text/plain": [
              "False"
            ]
          },
          "metadata": {
            "tags": []
          },
          "execution_count": 31
        }
      ]
    },
    {
      "cell_type": "markdown",
      "metadata": {
        "id": "qWpleDfPmn7X",
        "colab_type": "text"
      },
      "source": [
        "## Rename column"
      ]
    },
    {
      "cell_type": "code",
      "metadata": {
        "id": "tx5XYTNPmnH2",
        "colab_type": "code",
        "outputId": "7c04b37f-a798-413d-9c7e-7c730c2dfdfc",
        "colab": {
          "base_uri": "https://localhost:8080/",
          "height": 104
        }
      },
      "source": [
        "df.rename(columns={'TotalVolume': 'TotalTrafficVolume', 'VehicleClass':'VehicleType'}, inplace=True)\n",
        "df.columns"
      ],
      "execution_count": 32,
      "outputs": [
        {
          "output_type": "execute_result",
          "data": {
            "text/plain": [
              "Index(['AssetID', 'FinancialQtrID', 'Date', 'IntervalStart', 'IntervalEnd',\n",
              "       'Version', 'VehicleType', 'TollPointID', 'GantryDirection',\n",
              "       'GantryLocation', 'GantryGPSLatitude', 'GantryGPSLongitude',\n",
              "       'GantryType', 'TotalTrafficVolume'],\n",
              "      dtype='object')"
            ]
          },
          "metadata": {
            "tags": []
          },
          "execution_count": 32
        }
      ]
    },
    {
      "cell_type": "code",
      "metadata": {
        "id": "-U1MbpaUmeQM",
        "colab_type": "code",
        "outputId": "4c8e3ece-ef5b-4b14-a660-1f90d0123c2d",
        "colab": {
          "base_uri": "https://localhost:8080/",
          "height": 156
        }
      },
      "source": [
        "df.values"
      ],
      "execution_count": 33,
      "outputs": [
        {
          "output_type": "execute_result",
          "data": {
            "text/plain": [
              "array([['M4', 201901, '2018-07-01', ..., 151.0, 'Mainline', 310],\n",
              "       ['M4', 201901, '2018-07-01', ..., 151.0, 'Mainline', 4],\n",
              "       ['M4', 201901, '2018-07-01', ..., 151.0, 'Mainline', 120],\n",
              "       ...,\n",
              "       ['M4', 201901, '2018-07-31', ..., 151.07, 'Ramp', 24],\n",
              "       ['M4', 201901, '2018-07-31', ..., 151.07, 'Ramp', 5],\n",
              "       ['M4', 201901, '2018-07-31', ..., 151.07, 'Mainline + G', 17]],\n",
              "      dtype=object)"
            ]
          },
          "metadata": {
            "tags": []
          },
          "execution_count": 33
        }
      ]
    },
    {
      "cell_type": "markdown",
      "metadata": {
        "id": "Uevzw96xsoxD",
        "colab_type": "text"
      },
      "source": [
        "## Checking latitute and longitude against GantryLocation"
      ]
    },
    {
      "cell_type": "code",
      "metadata": {
        "id": "Kpko6jXMsuPP",
        "colab_type": "code",
        "outputId": "2b422d97-dc59-41af-b529-afca98f057eb",
        "colab": {
          "base_uri": "https://localhost:8080/",
          "height": 243
        }
      },
      "source": [
        "temp_df=df[['GantryLocation','GantryGPSLatitude','GantryGPSLongitude','TollPointID']].groupby(by=['GantryLocation'])\n",
        "print(temp_df.first())"
      ],
      "execution_count": 34,
      "outputs": [
        {
          "output_type": "stream",
          "text": [
            "                            GantryGPSLatitude  GantryGPSLongitude TollPointID\n",
            "GantryLocation                                                               \n",
            "Church St Entry                        -33.83              151.00      TS0102\n",
            "Church St Exit                         -33.83              151.00      TS0101\n",
            "Hill Rd Entry                          -33.85              151.05      TS1001\n",
            "Hill Rd Exit                           -33.85              151.05      TS0901\n",
            "Homebush Bay Dr (NB) Entry             -33.86              151.07      TS1301\n",
            "Homebush Bay Dr Entry                  -33.86              151.07      TS1401\n",
            "Homebush Bay Dr Exit                   -33.86              151.07      TS1201\n",
            "James Ruse Dr Entry                    -33.83              151.02      TS0201\n",
            "James Ruse Dr Exit                     -33.83              151.02      TS0202\n",
            "Silverwater Rd Entry                   -33.84              151.04      TS0601\n",
            "Silverwater Rd Exit                    -33.84              151.04      TS0501\n"
          ],
          "name": "stdout"
        }
      ]
    },
    {
      "cell_type": "code",
      "metadata": {
        "id": "K8tLd1sqtQ1Z",
        "colab_type": "code",
        "outputId": "3e6ec831-bd98-48fe-ee7a-690edca4552c",
        "colab": {
          "base_uri": "https://localhost:8080/",
          "height": 69
        }
      },
      "source": [
        "print(df['AssetID'].unique())\n",
        "print(df['Version'].unique())\n",
        "print(df['FinancialQtrID'].unique())\n",
        "#print(df['Date'].unique())"
      ],
      "execution_count": 35,
      "outputs": [
        {
          "output_type": "stream",
          "text": [
            "['M4']\n",
            "[3]\n",
            "[201901]\n"
          ],
          "name": "stdout"
        }
      ]
    },
    {
      "cell_type": "markdown",
      "metadata": {
        "id": "PT4jT9cyswAo",
        "colab_type": "text"
      },
      "source": [
        "## Drop unwanted columns like latitude and longitude"
      ]
    },
    {
      "cell_type": "code",
      "metadata": {
        "id": "cOg5gb0AszT9",
        "colab_type": "code",
        "outputId": "a0b1604e-798e-457b-9c8f-4aa7c406e877",
        "colab": {
          "base_uri": "https://localhost:8080/",
          "height": 86
        }
      },
      "source": [
        "df.drop(['GantryGPSLatitude', 'GantryGPSLongitude','AssetID', 'Version','TollPointID','FinancialQtrID'], axis = 1, inplace=True)\n",
        "df.columns"
      ],
      "execution_count": 36,
      "outputs": [
        {
          "output_type": "execute_result",
          "data": {
            "text/plain": [
              "Index(['Date', 'IntervalStart', 'IntervalEnd', 'VehicleType',\n",
              "       'GantryDirection', 'GantryLocation', 'GantryType',\n",
              "       'TotalTrafficVolume'],\n",
              "      dtype='object')"
            ]
          },
          "metadata": {
            "tags": []
          },
          "execution_count": 36
        }
      ]
    },
    {
      "cell_type": "code",
      "metadata": {
        "id": "fYEOOKg8X_DY",
        "colab_type": "code",
        "outputId": "70f28872-e19e-4f4b-d12b-baf83ce182a5",
        "colab": {
          "base_uri": "https://localhost:8080/",
          "height": 104
        }
      },
      "source": [
        "df['GantryLocation'].unique()"
      ],
      "execution_count": 37,
      "outputs": [
        {
          "output_type": "execute_result",
          "data": {
            "text/plain": [
              "array(['Church St Exit', 'Church St Entry', 'James Ruse Dr Entry',\n",
              "       'James Ruse Dr Exit', 'Silverwater Rd Exit',\n",
              "       'Silverwater Rd Entry', 'Hill Rd Exit', 'Hill Rd Entry',\n",
              "       'Homebush Bay Dr Exit', 'Homebush Bay Dr (NB) Entry',\n",
              "       'Homebush Bay Dr Entry'], dtype=object)"
            ]
          },
          "metadata": {
            "tags": []
          },
          "execution_count": 37
        }
      ]
    },
    {
      "cell_type": "code",
      "metadata": {
        "id": "f1Y5isJHYVW2",
        "colab_type": "code",
        "outputId": "ac5b9eba-07d2-4f2d-b449-7f13bbe12833",
        "colab": {
          "base_uri": "https://localhost:8080/",
          "height": 34
        }
      },
      "source": [
        "df['VehicleType'].unique()"
      ],
      "execution_count": 39,
      "outputs": [
        {
          "output_type": "execute_result",
          "data": {
            "text/plain": [
              "array(['Car', 'Truck'], dtype=object)"
            ]
          },
          "metadata": {
            "tags": []
          },
          "execution_count": 39
        }
      ]
    },
    {
      "cell_type": "code",
      "metadata": {
        "id": "APKyZvj-YlHg",
        "colab_type": "code",
        "colab": {}
      },
      "source": [
        "df['GantryType'].unique()"
      ],
      "execution_count": 0,
      "outputs": []
    },
    {
      "cell_type": "code",
      "metadata": {
        "id": "Ac6EJKOMZINl",
        "colab_type": "code",
        "outputId": "ec8e733f-2fb5-4907-a428-ae24ca99ff54",
        "colab": {
          "base_uri": "https://localhost:8080/",
          "height": 426
        }
      },
      "source": [
        "group_by_gantry_type = df[['GantryType', 'VehicleType','TotalTrafficVolume']].groupby(by=['GantryType', 'VehicleType'])\n",
        "group_by_gantry_type.head(2)\n"
      ],
      "execution_count": 52,
      "outputs": [
        {
          "output_type": "execute_result",
          "data": {
            "text/html": [
              "<div>\n",
              "<style scoped>\n",
              "    .dataframe tbody tr th:only-of-type {\n",
              "        vertical-align: middle;\n",
              "    }\n",
              "\n",
              "    .dataframe tbody tr th {\n",
              "        vertical-align: top;\n",
              "    }\n",
              "\n",
              "    .dataframe thead th {\n",
              "        text-align: right;\n",
              "    }\n",
              "</style>\n",
              "<table border=\"1\" class=\"dataframe\">\n",
              "  <thead>\n",
              "    <tr style=\"text-align: right;\">\n",
              "      <th></th>\n",
              "      <th>GantryType</th>\n",
              "      <th>VehicleType</th>\n",
              "      <th>TotalTrafficVolume</th>\n",
              "    </tr>\n",
              "  </thead>\n",
              "  <tbody>\n",
              "    <tr>\n",
              "      <th>0</th>\n",
              "      <td>Mainline</td>\n",
              "      <td>Car</td>\n",
              "      <td>310</td>\n",
              "    </tr>\n",
              "    <tr>\n",
              "      <th>1</th>\n",
              "      <td>Mainline</td>\n",
              "      <td>Truck</td>\n",
              "      <td>4</td>\n",
              "    </tr>\n",
              "    <tr>\n",
              "      <th>2</th>\n",
              "      <td>Mainline</td>\n",
              "      <td>Car</td>\n",
              "      <td>120</td>\n",
              "    </tr>\n",
              "    <tr>\n",
              "      <th>3</th>\n",
              "      <td>Mainline</td>\n",
              "      <td>Truck</td>\n",
              "      <td>2</td>\n",
              "    </tr>\n",
              "    <tr>\n",
              "      <th>4</th>\n",
              "      <td>Ramp</td>\n",
              "      <td>Car</td>\n",
              "      <td>23</td>\n",
              "    </tr>\n",
              "    <tr>\n",
              "      <th>5</th>\n",
              "      <td>Ramp</td>\n",
              "      <td>Car</td>\n",
              "      <td>4</td>\n",
              "    </tr>\n",
              "    <tr>\n",
              "      <th>10</th>\n",
              "      <td>Ramp</td>\n",
              "      <td>Truck</td>\n",
              "      <td>1</td>\n",
              "    </tr>\n",
              "    <tr>\n",
              "      <th>13</th>\n",
              "      <td>Ramp</td>\n",
              "      <td>Truck</td>\n",
              "      <td>1</td>\n",
              "    </tr>\n",
              "    <tr>\n",
              "      <th>22</th>\n",
              "      <td>Mainline + G</td>\n",
              "      <td>Car</td>\n",
              "      <td>266</td>\n",
              "    </tr>\n",
              "    <tr>\n",
              "      <th>23</th>\n",
              "      <td>Mainline + G</td>\n",
              "      <td>Truck</td>\n",
              "      <td>3</td>\n",
              "    </tr>\n",
              "    <tr>\n",
              "      <th>49</th>\n",
              "      <td>Mainline + G</td>\n",
              "      <td>Car</td>\n",
              "      <td>204</td>\n",
              "    </tr>\n",
              "    <tr>\n",
              "      <th>50</th>\n",
              "      <td>Mainline + G</td>\n",
              "      <td>Truck</td>\n",
              "      <td>1</td>\n",
              "    </tr>\n",
              "  </tbody>\n",
              "</table>\n",
              "</div>"
            ],
            "text/plain": [
              "      GantryType VehicleType  TotalTrafficVolume\n",
              "0       Mainline         Car                 310\n",
              "1       Mainline       Truck                   4\n",
              "2       Mainline         Car                 120\n",
              "3       Mainline       Truck                   2\n",
              "4           Ramp         Car                  23\n",
              "5           Ramp         Car                   4\n",
              "10          Ramp       Truck                   1\n",
              "13          Ramp       Truck                   1\n",
              "22  Mainline + G         Car                 266\n",
              "23  Mainline + G       Truck                   3\n",
              "49  Mainline + G         Car                 204\n",
              "50  Mainline + G       Truck                   1"
            ]
          },
          "metadata": {
            "tags": []
          },
          "execution_count": 52
        }
      ]
    },
    {
      "cell_type": "code",
      "metadata": {
        "id": "yuCsnsB8jRdY",
        "colab_type": "code",
        "outputId": "48bc6502-58db-4a42-bb8a-8e5be92b36bf",
        "colab": {
          "base_uri": "https://localhost:8080/",
          "height": 477
        }
      },
      "source": [
        "car_data_avg = group_by_gantry_type.mean()\n",
        "car_data_count = group_by_gantry_type.count()\n",
        "\n",
        "print(car_data_avg.head(2))\n",
        "print(car_data_count)\n",
        "\n",
        "car_data_count"
      ],
      "execution_count": 53,
      "outputs": [
        {
          "output_type": "stream",
          "text": [
            "                        TotalTrafficVolume\n",
            "GantryType VehicleType                    \n",
            "Mainline   Car                  411.044388\n",
            "           Truck                 36.510095\n",
            "                          TotalTrafficVolume\n",
            "GantryType   VehicleType                    \n",
            "Mainline     Car                        8651\n",
            "             Truck                      8618\n",
            "Mainline + G Car                        2961\n",
            "             Truck                      2862\n",
            "Ramp         Car                       37943\n",
            "             Truck                     33913\n"
          ],
          "name": "stdout"
        },
        {
          "output_type": "execute_result",
          "data": {
            "text/html": [
              "<div>\n",
              "<style scoped>\n",
              "    .dataframe tbody tr th:only-of-type {\n",
              "        vertical-align: middle;\n",
              "    }\n",
              "\n",
              "    .dataframe tbody tr th {\n",
              "        vertical-align: top;\n",
              "    }\n",
              "\n",
              "    .dataframe thead th {\n",
              "        text-align: right;\n",
              "    }\n",
              "</style>\n",
              "<table border=\"1\" class=\"dataframe\">\n",
              "  <thead>\n",
              "    <tr style=\"text-align: right;\">\n",
              "      <th></th>\n",
              "      <th></th>\n",
              "      <th>TotalTrafficVolume</th>\n",
              "    </tr>\n",
              "    <tr>\n",
              "      <th>GantryType</th>\n",
              "      <th>VehicleType</th>\n",
              "      <th></th>\n",
              "    </tr>\n",
              "  </thead>\n",
              "  <tbody>\n",
              "    <tr>\n",
              "      <th rowspan=\"2\" valign=\"top\">Mainline</th>\n",
              "      <th>Car</th>\n",
              "      <td>8651</td>\n",
              "    </tr>\n",
              "    <tr>\n",
              "      <th>Truck</th>\n",
              "      <td>8618</td>\n",
              "    </tr>\n",
              "    <tr>\n",
              "      <th rowspan=\"2\" valign=\"top\">Mainline + G</th>\n",
              "      <th>Car</th>\n",
              "      <td>2961</td>\n",
              "    </tr>\n",
              "    <tr>\n",
              "      <th>Truck</th>\n",
              "      <td>2862</td>\n",
              "    </tr>\n",
              "    <tr>\n",
              "      <th rowspan=\"2\" valign=\"top\">Ramp</th>\n",
              "      <th>Car</th>\n",
              "      <td>37943</td>\n",
              "    </tr>\n",
              "    <tr>\n",
              "      <th>Truck</th>\n",
              "      <td>33913</td>\n",
              "    </tr>\n",
              "  </tbody>\n",
              "</table>\n",
              "</div>"
            ],
            "text/plain": [
              "                          TotalTrafficVolume\n",
              "GantryType   VehicleType                    \n",
              "Mainline     Car                        8651\n",
              "             Truck                      8618\n",
              "Mainline + G Car                        2961\n",
              "             Truck                      2862\n",
              "Ramp         Car                       37943\n",
              "             Truck                     33913"
            ]
          },
          "metadata": {
            "tags": []
          },
          "execution_count": 53
        }
      ]
    },
    {
      "cell_type": "code",
      "metadata": {
        "id": "bXHrTP41d3-0",
        "colab_type": "code",
        "colab": {
          "base_uri": "https://localhost:8080/",
          "height": 286
        },
        "outputId": "cd2811b1-3bd6-413d-dfee-0fd404e8d0d9"
      },
      "source": [
        "car_data_count.sort_values(by='TotalTrafficVolume').plot(kind='barh')"
      ],
      "execution_count": 56,
      "outputs": [
        {
          "output_type": "execute_result",
          "data": {
            "text/plain": [
              "<matplotlib.axes._subplots.AxesSubplot at 0x7f1724e55550>"
            ]
          },
          "metadata": {
            "tags": []
          },
          "execution_count": 56
        },
        {
          "output_type": "display_data",
          "data": {
            "image/png": "[encoded data removed]",
            "text/plain": [
              "<Figure size 432x288 with 1 Axes>"
            ]
          },
          "metadata": {
            "tags": []
          }
        }
      ]
    },
    {
      "cell_type": "markdown",
      "metadata": {
        "id": "o9OTbPcAsWAi",
        "colab_type": "text"
      },
      "source": [
        ""
      ]
    }
  ]
}