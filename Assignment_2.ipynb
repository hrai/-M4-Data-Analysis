{
  "nbformat": 4,
  "nbformat_minor": 0,
  "metadata": {
    "colab": {
      "name": "Assignment 2.ipynb",
      "version": "0.3.2",
      "provenance": [],
      "include_colab_link": true
    },
    "kernelspec": {
      "name": "python3",
      "display_name": "Python 3"
    }
  },
  "cells": [
    {
      "cell_type": "markdown",
      "metadata": {
        "id": "view-in-github",
        "colab_type": "text"
      },
      "source": [
        "<a href=\"https://colab.research.google.com/github/hrai/M4-Data-Analysis/blob/master/Assignment_2.ipynb\" target=\"_parent\"><img src=\"https://colab.research.google.com/assets/colab-badge.svg\" alt=\"Open In Colab\"/></a>"
      ]
    },
    {
      "cell_type": "code",
      "metadata": {
        "id": "VTFfssmFM1Ah",
        "colab_type": "code",
        "colab": {}
      },
      "source": [
        "import csv\n",
        "import pandas as pd\n",
        "\n",
        "url='https://raw.githubusercontent.com/hrai/M4-Data-Analysis/master/data/M4_passages_2018-07.csv'\n",
        "df = pd.read_csv(url)\n"
      ],
      "execution_count": 0,
      "outputs": []
    },
    {
      "cell_type": "code",
      "metadata": {
        "id": "dZ9YsVU2RPl3",
        "colab_type": "code",
        "colab": {
          "base_uri": "https://localhost:8080/",
          "height": 163
        },
        "outputId": "5326105a-4ed9-4737-9825-56529c019dfc"
      },
      "source": [
        "df.items\n",
        "\n",
        "df[:3]"
      ],
      "execution_count": 2,
      "outputs": [
        {
          "output_type": "execute_result",
          "data": {
            "text/html": [
              "<div>\n",
              "<style scoped>\n",
              "    .dataframe tbody tr th:only-of-type {\n",
              "        vertical-align: middle;\n",
              "    }\n",
              "\n",
              "    .dataframe tbody tr th {\n",
              "        vertical-align: top;\n",
              "    }\n",
              "\n",
              "    .dataframe thead th {\n",
              "        text-align: right;\n",
              "    }\n",
              "</style>\n",
              "<table border=\"1\" class=\"dataframe\">\n",
              "  <thead>\n",
              "    <tr style=\"text-align: right;\">\n",
              "      <th></th>\n",
              "      <th>AssetID</th>\n",
              "      <th>FinancialQtrID</th>\n",
              "      <th>Date</th>\n",
              "      <th>IntervalStart</th>\n",
              "      <th>IntervalEnd</th>\n",
              "      <th>Version</th>\n",
              "      <th>VehicleClass</th>\n",
              "      <th>TollPointID</th>\n",
              "      <th>GantryDirection</th>\n",
              "      <th>GantryLocation</th>\n",
              "      <th>GantryGPSLatitude</th>\n",
              "      <th>GantryGPSLongitude</th>\n",
              "      <th>GantryType</th>\n",
              "      <th>TotalVolume</th>\n",
              "    </tr>\n",
              "  </thead>\n",
              "  <tbody>\n",
              "    <tr>\n",
              "      <th>0</th>\n",
              "      <td>M4</td>\n",
              "      <td>201901</td>\n",
              "      <td>2018-07-01</td>\n",
              "      <td>00:00</td>\n",
              "      <td>00:14</td>\n",
              "      <td>3</td>\n",
              "      <td>Car</td>\n",
              "      <td>TS0101</td>\n",
              "      <td>W</td>\n",
              "      <td>Church St Exit</td>\n",
              "      <td>-33.83</td>\n",
              "      <td>151.0</td>\n",
              "      <td>Mainline</td>\n",
              "      <td>310</td>\n",
              "    </tr>\n",
              "    <tr>\n",
              "      <th>1</th>\n",
              "      <td>M4</td>\n",
              "      <td>201901</td>\n",
              "      <td>2018-07-01</td>\n",
              "      <td>00:00</td>\n",
              "      <td>00:14</td>\n",
              "      <td>3</td>\n",
              "      <td>Truck</td>\n",
              "      <td>TS0101</td>\n",
              "      <td>W</td>\n",
              "      <td>Church St Exit</td>\n",
              "      <td>-33.83</td>\n",
              "      <td>151.0</td>\n",
              "      <td>Mainline</td>\n",
              "      <td>4</td>\n",
              "    </tr>\n",
              "    <tr>\n",
              "      <th>2</th>\n",
              "      <td>M4</td>\n",
              "      <td>201901</td>\n",
              "      <td>2018-07-01</td>\n",
              "      <td>00:00</td>\n",
              "      <td>00:14</td>\n",
              "      <td>3</td>\n",
              "      <td>Car</td>\n",
              "      <td>TS0102</td>\n",
              "      <td>E</td>\n",
              "      <td>Church St Entry</td>\n",
              "      <td>-33.83</td>\n",
              "      <td>151.0</td>\n",
              "      <td>Mainline</td>\n",
              "      <td>120</td>\n",
              "    </tr>\n",
              "  </tbody>\n",
              "</table>\n",
              "</div>"
            ],
            "text/plain": [
              "  AssetID  FinancialQtrID  ... GantryType TotalVolume\n",
              "0      M4          201901  ...   Mainline         310\n",
              "1      M4          201901  ...   Mainline           4\n",
              "2      M4          201901  ...   Mainline         120\n",
              "\n",
              "[3 rows x 14 columns]"
            ]
          },
          "metadata": {
            "tags": []
          },
          "execution_count": 2
        }
      ]
    },
    {
      "cell_type": "code",
      "metadata": {
        "id": "KGHzo36kRZvl",
        "colab_type": "code",
        "colab": {
          "base_uri": "https://localhost:8080/",
          "height": 104
        },
        "outputId": "a0158a8a-2991-46df-a2bf-4f0ac3fa94e9"
      },
      "source": [
        "df.columns"
      ],
      "execution_count": 3,
      "outputs": [
        {
          "output_type": "execute_result",
          "data": {
            "text/plain": [
              "Index(['AssetID', 'FinancialQtrID', 'Date', 'IntervalStart', 'IntervalEnd',\n",
              "       'Version', 'VehicleClass', 'TollPointID', 'GantryDirection',\n",
              "       'GantryLocation', 'GantryGPSLatitude', 'GantryGPSLongitude',\n",
              "       'GantryType', 'TotalVolume'],\n",
              "      dtype='object')"
            ]
          },
          "metadata": {
            "tags": []
          },
          "execution_count": 3
        }
      ]
    },
    {
      "cell_type": "markdown",
      "metadata": {
        "id": "_hMu7yJDmARe",
        "colab_type": "text"
      },
      "source": [
        "## Check for null values\n",
        "\n"
      ]
    },
    {
      "cell_type": "code",
      "metadata": {
        "id": "XXI8_zrVl95q",
        "colab_type": "code",
        "colab": {
          "base_uri": "https://localhost:8080/",
          "height": 34
        },
        "outputId": "d8da4f14-ca1b-4d40-adb9-f3e5649de5d9"
      },
      "source": [
        "df.isnull().values.any()"
      ],
      "execution_count": 4,
      "outputs": [
        {
          "output_type": "execute_result",
          "data": {
            "text/plain": [
              "False"
            ]
          },
          "metadata": {
            "tags": []
          },
          "execution_count": 4
        }
      ]
    },
    {
      "cell_type": "markdown",
      "metadata": {
        "id": "qWpleDfPmn7X",
        "colab_type": "text"
      },
      "source": [
        "## Rename column"
      ]
    },
    {
      "cell_type": "code",
      "metadata": {
        "id": "tx5XYTNPmnH2",
        "colab_type": "code",
        "colab": {
          "base_uri": "https://localhost:8080/",
          "height": 104
        },
        "outputId": "936ae466-76b7-40e5-f118-eb70585e767e"
      },
      "source": [
        "df.rename(columns={'TotalVolume': 'TotalTrafficVolume'}, inplace=True)\n",
        "df.columns"
      ],
      "execution_count": 7,
      "outputs": [
        {
          "output_type": "execute_result",
          "data": {
            "text/plain": [
              "Index(['AssetID', 'FinancialQtrID', 'Date', 'IntervalStart', 'IntervalEnd',\n",
              "       'Version', 'VehicleClass', 'TollPointID', 'GantryDirection',\n",
              "       'GantryLocation', 'GantryGPSLatitude', 'GantryGPSLongitude',\n",
              "       'GantryType', 'TotalTrafficVolume'],\n",
              "      dtype='object')"
            ]
          },
          "metadata": {
            "tags": []
          },
          "execution_count": 7
        }
      ]
    },
    {
      "cell_type": "code",
      "metadata": {
        "id": "-U1MbpaUmeQM",
        "colab_type": "code",
        "colab": {
          "base_uri": "https://localhost:8080/",
          "height": 156
        },
        "outputId": "6d015974-5872-4702-f740-a01a27f2e3fa"
      },
      "source": [
        "df.values"
      ],
      "execution_count": 43,
      "outputs": [
        {
          "output_type": "execute_result",
          "data": {
            "text/plain": [
              "array([['M4', 201901, '2018-07-01', ..., 151.0, 'Mainline', 310],\n",
              "       ['M4', 201901, '2018-07-01', ..., 151.0, 'Mainline', 4],\n",
              "       ['M4', 201901, '2018-07-01', ..., 151.0, 'Mainline', 120],\n",
              "       ...,\n",
              "       ['M4', 201901, '2018-07-31', ..., 151.07, 'Ramp', 24],\n",
              "       ['M4', 201901, '2018-07-31', ..., 151.07, 'Ramp', 5],\n",
              "       ['M4', 201901, '2018-07-31', ..., 151.07, 'Mainline + G', 17]],\n",
              "      dtype=object)"
            ]
          },
          "metadata": {
            "tags": []
          },
          "execution_count": 43
        }
      ]
    },
    {
      "cell_type": "markdown",
      "metadata": {
        "id": "Uevzw96xsoxD",
        "colab_type": "text"
      },
      "source": [
        "## Checking latitute and longitude against GantryLocation"
      ]
    },
    {
      "cell_type": "code",
      "metadata": {
        "id": "Kpko6jXMsuPP",
        "colab_type": "code",
        "colab": {
          "base_uri": "https://localhost:8080/",
          "height": 243
        },
        "outputId": "7ae7e6e6-fc32-412f-8a1e-d3dc3a9423b2"
      },
      "source": [
        "temp_df=df[['GantryLocation','GantryGPSLatitude','GantryGPSLongitude','TollPointID']].groupby(by=['GantryLocation'])\n",
        "print(temp_df.first())"
      ],
      "execution_count": 8,
      "outputs": [
        {
          "output_type": "stream",
          "text": [
            "                            GantryGPSLatitude  GantryGPSLongitude TollPointID\n",
            "GantryLocation                                                               \n",
            "Church St Entry                        -33.83              151.00      TS0102\n",
            "Church St Exit                         -33.83              151.00      TS0101\n",
            "Hill Rd Entry                          -33.85              151.05      TS1001\n",
            "Hill Rd Exit                           -33.85              151.05      TS0901\n",
            "Homebush Bay Dr (NB) Entry             -33.86              151.07      TS1301\n",
            "Homebush Bay Dr Entry                  -33.86              151.07      TS1401\n",
            "Homebush Bay Dr Exit                   -33.86              151.07      TS1201\n",
            "James Ruse Dr Entry                    -33.83              151.02      TS0201\n",
            "James Ruse Dr Exit                     -33.83              151.02      TS0202\n",
            "Silverwater Rd Entry                   -33.84              151.04      TS0601\n",
            "Silverwater Rd Exit                    -33.84              151.04      TS0501\n"
          ],
          "name": "stdout"
        }
      ]
    },
    {
      "cell_type": "code",
      "metadata": {
        "id": "K8tLd1sqtQ1Z",
        "colab_type": "code",
        "colab": {
          "base_uri": "https://localhost:8080/",
          "height": 69
        },
        "outputId": "74f5190d-c4ec-4c46-cd70-b0ea900bf193"
      },
      "source": [
        "print(df['AssetID'].unique())\n",
        "print(df['Version'].unique())\n",
        "print(df['FinancialQtrID'].unique())\n",
        "#print(df['Date'].unique())"
      ],
      "execution_count": 68,
      "outputs": [
        {
          "output_type": "stream",
          "text": [
            "['M4']\n",
            "[3]\n",
            "[201901]\n"
          ],
          "name": "stdout"
        }
      ]
    },
    {
      "cell_type": "markdown",
      "metadata": {
        "id": "PT4jT9cyswAo",
        "colab_type": "text"
      },
      "source": [
        "## Drop unwanted columns like latitude and longitude"
      ]
    },
    {
      "cell_type": "code",
      "metadata": {
        "id": "cOg5gb0AszT9",
        "colab_type": "code",
        "colab": {
          "base_uri": "https://localhost:8080/",
          "height": 104
        },
        "outputId": "d4fe9597-7238-41a7-97e9-3c95f4a70b52"
      },
      "source": [
        "df.drop(['GantryGPSLatitude', 'GantryGPSLongitude','AssetID', 'Version','TollPointID','FinancialQtrID'], axis = 1)\n",
        "df.columns"
      ],
      "execution_count": 10,
      "outputs": [
        {
          "output_type": "execute_result",
          "data": {
            "text/plain": [
              "Index(['AssetID', 'FinancialQtrID', 'Date', 'IntervalStart', 'IntervalEnd',\n",
              "       'Version', 'VehicleClass', 'TollPointID', 'GantryDirection',\n",
              "       'GantryLocation', 'GantryGPSLatitude', 'GantryGPSLongitude',\n",
              "       'GantryType', 'TotalTrafficVolume'],\n",
              "      dtype='object')"
            ]
          },
          "metadata": {
            "tags": []
          },
          "execution_count": 10
        }
      ]
    },
    {
      "cell_type": "code",
      "metadata": {
        "id": "fYEOOKg8X_DY",
        "colab_type": "code",
        "colab": {
          "base_uri": "https://localhost:8080/",
          "height": 104
        },
        "outputId": "d9933905-1e12-4a80-9e73-7e22c847dbfe"
      },
      "source": [
        "df['GantryLocation'].unique()"
      ],
      "execution_count": 44,
      "outputs": [
        {
          "output_type": "execute_result",
          "data": {
            "text/plain": [
              "array(['Church St Exit', 'Church St Entry', 'James Ruse Dr Entry',\n",
              "       'James Ruse Dr Exit', 'Silverwater Rd Exit',\n",
              "       'Silverwater Rd Entry', 'Hill Rd Exit', 'Hill Rd Entry',\n",
              "       'Homebush Bay Dr Exit', 'Homebush Bay Dr (NB) Entry',\n",
              "       'Homebush Bay Dr Entry'], dtype=object)"
            ]
          },
          "metadata": {
            "tags": []
          },
          "execution_count": 44
        }
      ]
    },
    {
      "cell_type": "code",
      "metadata": {
        "id": "f1Y5isJHYVW2",
        "colab_type": "code",
        "colab": {
          "base_uri": "https://localhost:8080/",
          "height": 34
        },
        "outputId": "d5d671e6-e651-4596-de8b-d3d42c8f97b0"
      },
      "source": [
        "df['VehicleClass'].unique()"
      ],
      "execution_count": 45,
      "outputs": [
        {
          "output_type": "execute_result",
          "data": {
            "text/plain": [
              "array(['Car', 'Truck'], dtype=object)"
            ]
          },
          "metadata": {
            "tags": []
          },
          "execution_count": 45
        }
      ]
    },
    {
      "cell_type": "code",
      "metadata": {
        "id": "APKyZvj-YlHg",
        "colab_type": "code",
        "colab": {
          "base_uri": "https://localhost:8080/",
          "height": 34
        },
        "outputId": "f578fe19-99f7-4e4b-b5cf-023c18286ebf"
      },
      "source": [
        "df['GantryType'].unique()"
      ],
      "execution_count": 14,
      "outputs": [
        {
          "output_type": "execute_result",
          "data": {
            "text/plain": [
              "array(['Mainline', 'Ramp', 'Mainline + G'], dtype=object)"
            ]
          },
          "metadata": {
            "tags": []
          },
          "execution_count": 14
        }
      ]
    },
    {
      "cell_type": "code",
      "metadata": {
        "id": "Ac6EJKOMZINl",
        "colab_type": "code",
        "colab": {
          "base_uri": "https://localhost:8080/",
          "height": 584
        },
        "outputId": "0482cbd5-64cc-4743-f90f-b5b63d3e4bf5"
      },
      "source": [
        "group_by_gantry_type = df.groupby(by=['GantryType'])\n",
        "group_by_gantry_type.head(4)\n"
      ],
      "execution_count": 12,
      "outputs": [
        {
          "output_type": "execute_result",
          "data": {
            "text/html": [
              "<div>\n",
              "<style scoped>\n",
              "    .dataframe tbody tr th:only-of-type {\n",
              "        vertical-align: middle;\n",
              "    }\n",
              "\n",
              "    .dataframe tbody tr th {\n",
              "        vertical-align: top;\n",
              "    }\n",
              "\n",
              "    .dataframe thead th {\n",
              "        text-align: right;\n",
              "    }\n",
              "</style>\n",
              "<table border=\"1\" class=\"dataframe\">\n",
              "  <thead>\n",
              "    <tr style=\"text-align: right;\">\n",
              "      <th></th>\n",
              "      <th>AssetID</th>\n",
              "      <th>FinancialQtrID</th>\n",
              "      <th>Date</th>\n",
              "      <th>IntervalStart</th>\n",
              "      <th>IntervalEnd</th>\n",
              "      <th>Version</th>\n",
              "      <th>VehicleClass</th>\n",
              "      <th>TollPointID</th>\n",
              "      <th>GantryDirection</th>\n",
              "      <th>GantryLocation</th>\n",
              "      <th>GantryGPSLatitude</th>\n",
              "      <th>GantryGPSLongitude</th>\n",
              "      <th>GantryType</th>\n",
              "      <th>TotalTrafficVolume</th>\n",
              "    </tr>\n",
              "  </thead>\n",
              "  <tbody>\n",
              "    <tr>\n",
              "      <th>0</th>\n",
              "      <td>M4</td>\n",
              "      <td>201901</td>\n",
              "      <td>2018-07-01</td>\n",
              "      <td>00:00</td>\n",
              "      <td>00:14</td>\n",
              "      <td>3</td>\n",
              "      <td>Car</td>\n",
              "      <td>TS0101</td>\n",
              "      <td>W</td>\n",
              "      <td>Church St Exit</td>\n",
              "      <td>-33.83</td>\n",
              "      <td>151.00</td>\n",
              "      <td>Mainline</td>\n",
              "      <td>310</td>\n",
              "    </tr>\n",
              "    <tr>\n",
              "      <th>1</th>\n",
              "      <td>M4</td>\n",
              "      <td>201901</td>\n",
              "      <td>2018-07-01</td>\n",
              "      <td>00:00</td>\n",
              "      <td>00:14</td>\n",
              "      <td>3</td>\n",
              "      <td>Truck</td>\n",
              "      <td>TS0101</td>\n",
              "      <td>W</td>\n",
              "      <td>Church St Exit</td>\n",
              "      <td>-33.83</td>\n",
              "      <td>151.00</td>\n",
              "      <td>Mainline</td>\n",
              "      <td>4</td>\n",
              "    </tr>\n",
              "    <tr>\n",
              "      <th>2</th>\n",
              "      <td>M4</td>\n",
              "      <td>201901</td>\n",
              "      <td>2018-07-01</td>\n",
              "      <td>00:00</td>\n",
              "      <td>00:14</td>\n",
              "      <td>3</td>\n",
              "      <td>Car</td>\n",
              "      <td>TS0102</td>\n",
              "      <td>E</td>\n",
              "      <td>Church St Entry</td>\n",
              "      <td>-33.83</td>\n",
              "      <td>151.00</td>\n",
              "      <td>Mainline</td>\n",
              "      <td>120</td>\n",
              "    </tr>\n",
              "    <tr>\n",
              "      <th>3</th>\n",
              "      <td>M4</td>\n",
              "      <td>201901</td>\n",
              "      <td>2018-07-01</td>\n",
              "      <td>00:00</td>\n",
              "      <td>00:14</td>\n",
              "      <td>3</td>\n",
              "      <td>Truck</td>\n",
              "      <td>TS0102</td>\n",
              "      <td>E</td>\n",
              "      <td>Church St Entry</td>\n",
              "      <td>-33.83</td>\n",
              "      <td>151.00</td>\n",
              "      <td>Mainline</td>\n",
              "      <td>2</td>\n",
              "    </tr>\n",
              "    <tr>\n",
              "      <th>4</th>\n",
              "      <td>M4</td>\n",
              "      <td>201901</td>\n",
              "      <td>2018-07-01</td>\n",
              "      <td>00:00</td>\n",
              "      <td>00:14</td>\n",
              "      <td>3</td>\n",
              "      <td>Car</td>\n",
              "      <td>TS0201</td>\n",
              "      <td>W</td>\n",
              "      <td>James Ruse Dr Entry</td>\n",
              "      <td>-33.83</td>\n",
              "      <td>151.02</td>\n",
              "      <td>Ramp</td>\n",
              "      <td>23</td>\n",
              "    </tr>\n",
              "    <tr>\n",
              "      <th>5</th>\n",
              "      <td>M4</td>\n",
              "      <td>201901</td>\n",
              "      <td>2018-07-01</td>\n",
              "      <td>00:00</td>\n",
              "      <td>00:14</td>\n",
              "      <td>3</td>\n",
              "      <td>Car</td>\n",
              "      <td>TS0202</td>\n",
              "      <td>E</td>\n",
              "      <td>James Ruse Dr Exit</td>\n",
              "      <td>-33.83</td>\n",
              "      <td>151.02</td>\n",
              "      <td>Ramp</td>\n",
              "      <td>4</td>\n",
              "    </tr>\n",
              "    <tr>\n",
              "      <th>6</th>\n",
              "      <td>M4</td>\n",
              "      <td>201901</td>\n",
              "      <td>2018-07-01</td>\n",
              "      <td>00:00</td>\n",
              "      <td>00:14</td>\n",
              "      <td>3</td>\n",
              "      <td>Car</td>\n",
              "      <td>TS0301</td>\n",
              "      <td>E</td>\n",
              "      <td>James Ruse Dr Entry</td>\n",
              "      <td>-33.83</td>\n",
              "      <td>151.02</td>\n",
              "      <td>Ramp</td>\n",
              "      <td>43</td>\n",
              "    </tr>\n",
              "    <tr>\n",
              "      <th>7</th>\n",
              "      <td>M4</td>\n",
              "      <td>201901</td>\n",
              "      <td>2018-07-01</td>\n",
              "      <td>00:00</td>\n",
              "      <td>00:14</td>\n",
              "      <td>3</td>\n",
              "      <td>Car</td>\n",
              "      <td>TS0401</td>\n",
              "      <td>W</td>\n",
              "      <td>James Ruse Dr Exit</td>\n",
              "      <td>-33.83</td>\n",
              "      <td>151.04</td>\n",
              "      <td>Ramp</td>\n",
              "      <td>81</td>\n",
              "    </tr>\n",
              "    <tr>\n",
              "      <th>22</th>\n",
              "      <td>M4</td>\n",
              "      <td>201901</td>\n",
              "      <td>2018-07-01</td>\n",
              "      <td>00:00</td>\n",
              "      <td>00:14</td>\n",
              "      <td>3</td>\n",
              "      <td>Car</td>\n",
              "      <td>TS1401</td>\n",
              "      <td>W</td>\n",
              "      <td>Homebush Bay Dr Entry</td>\n",
              "      <td>-33.86</td>\n",
              "      <td>151.07</td>\n",
              "      <td>Mainline + G</td>\n",
              "      <td>266</td>\n",
              "    </tr>\n",
              "    <tr>\n",
              "      <th>23</th>\n",
              "      <td>M4</td>\n",
              "      <td>201901</td>\n",
              "      <td>2018-07-01</td>\n",
              "      <td>00:00</td>\n",
              "      <td>00:14</td>\n",
              "      <td>3</td>\n",
              "      <td>Truck</td>\n",
              "      <td>TS1401</td>\n",
              "      <td>W</td>\n",
              "      <td>Homebush Bay Dr Entry</td>\n",
              "      <td>-33.86</td>\n",
              "      <td>151.07</td>\n",
              "      <td>Mainline + G</td>\n",
              "      <td>3</td>\n",
              "    </tr>\n",
              "    <tr>\n",
              "      <th>49</th>\n",
              "      <td>M4</td>\n",
              "      <td>201901</td>\n",
              "      <td>2018-07-01</td>\n",
              "      <td>00:15</td>\n",
              "      <td>00:29</td>\n",
              "      <td>3</td>\n",
              "      <td>Car</td>\n",
              "      <td>TS1401</td>\n",
              "      <td>W</td>\n",
              "      <td>Homebush Bay Dr Entry</td>\n",
              "      <td>-33.86</td>\n",
              "      <td>151.07</td>\n",
              "      <td>Mainline + G</td>\n",
              "      <td>204</td>\n",
              "    </tr>\n",
              "    <tr>\n",
              "      <th>50</th>\n",
              "      <td>M4</td>\n",
              "      <td>201901</td>\n",
              "      <td>2018-07-01</td>\n",
              "      <td>00:15</td>\n",
              "      <td>00:29</td>\n",
              "      <td>3</td>\n",
              "      <td>Truck</td>\n",
              "      <td>TS1401</td>\n",
              "      <td>W</td>\n",
              "      <td>Homebush Bay Dr Entry</td>\n",
              "      <td>-33.86</td>\n",
              "      <td>151.07</td>\n",
              "      <td>Mainline + G</td>\n",
              "      <td>1</td>\n",
              "    </tr>\n",
              "  </tbody>\n",
              "</table>\n",
              "</div>"
            ],
            "text/plain": [
              "   AssetID  FinancialQtrID  ...    GantryType TotalTrafficVolume\n",
              "0       M4          201901  ...      Mainline                310\n",
              "1       M4          201901  ...      Mainline                  4\n",
              "2       M4          201901  ...      Mainline                120\n",
              "3       M4          201901  ...      Mainline                  2\n",
              "4       M4          201901  ...          Ramp                 23\n",
              "5       M4          201901  ...          Ramp                  4\n",
              "6       M4          201901  ...          Ramp                 43\n",
              "7       M4          201901  ...          Ramp                 81\n",
              "22      M4          201901  ...  Mainline + G                266\n",
              "23      M4          201901  ...  Mainline + G                  3\n",
              "49      M4          201901  ...  Mainline + G                204\n",
              "50      M4          201901  ...  Mainline + G                  1\n",
              "\n",
              "[12 rows x 14 columns]"
            ]
          },
          "metadata": {
            "tags": []
          },
          "execution_count": 12
        }
      ]
    },
    {
      "cell_type": "code",
      "metadata": {
        "id": "yuCsnsB8jRdY",
        "colab_type": "code",
        "colab": {
          "base_uri": "https://localhost:8080/",
          "height": 260
        },
        "outputId": "00729b92-4eab-4c98-c4f8-52b85254a521"
      },
      "source": [
        "car_data_avg = group_by_gantry_type.mean()\n",
        "car_data_count = group_by_gantry_type.count()\n",
        "\n",
        "print(car_data_avg)\n",
        "print(car_data_count)"
      ],
      "execution_count": 47,
      "outputs": [
        {
          "output_type": "stream",
          "text": [
            "              FinancialQtrID  Version  ...  GantryGPSLongitude  TotalVolume\n",
            "GantryType                             ...                                 \n",
            "Mainline            201901.0      3.0  ...          151.021767   224.135098\n",
            "Mainline + G        201901.0      3.0  ...          151.070000   181.506783\n",
            "Ramp                201901.0      3.0  ...          151.042347    50.881179\n",
            "\n",
            "[3 rows x 5 columns]\n",
            "              AssetID  FinancialQtrID  ...  GantryGPSLongitude  TotalVolume\n",
            "GantryType                             ...                                 \n",
            "Mainline        17269           17269  ...               17269        17269\n",
            "Mainline + G     5823            5823  ...                5823         5823\n",
            "Ramp            71856           71856  ...               71856        71856\n",
            "\n",
            "[3 rows x 13 columns]\n"
          ],
          "name": "stdout"
        }
      ]
    },
    {
      "cell_type": "markdown",
      "metadata": {
        "id": "o9OTbPcAsWAi",
        "colab_type": "text"
      },
      "source": [
        ""
      ]
    }
  ]
}