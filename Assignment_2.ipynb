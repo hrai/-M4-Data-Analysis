{
  "nbformat": 4,
  "nbformat_minor": 0,
  "metadata": {
    "colab": {
      "name": "Assignment 2.ipynb",
      "provenance": [],
      "include_colab_link": true
    },
    "kernelspec": {
      "name": "python3",
      "display_name": "Python 3"
    }
  },
  "cells": [
    {
      "cell_type": "markdown",
      "metadata": {
        "id": "view-in-github",
        "colab_type": "text"
      },
      "source": [
        "<a href=\"https://colab.research.google.com/github/hrai/M4-Data-Analysis/blob/master/Assignment_2.ipynb\" target=\"_parent\"><img src=\"https://colab.research.google.com/assets/colab-badge.svg\" alt=\"Open In Colab\"/></a>"
      ]
    },
    {
      "cell_type": "markdown",
      "metadata": {
        "id": "lmDy6aH8xiXo",
        "colab_type": "text"
      },
      "source": [
        "#Assignment link - https://github.com/junjy007/UTS_ML2019_Main/blob/master/A2_Specification.pdf"
      ]
    },
    {
      "cell_type": "markdown",
      "metadata": {
        "id": "VumrllTOwUGE",
        "colab_type": "text"
      },
      "source": [
        "###Introduction\n",
        "\n",
        "\n"
      ]
    },
    {
      "cell_type": "markdown",
      "metadata": {
        "id": "BwZhZo_7xTvL",
        "colab_type": "text"
      },
      "source": [
        "###Exploration\n"
      ]
    },
    {
      "cell_type": "markdown",
      "metadata": {
        "id": "AaLZ-sFRxVsb",
        "colab_type": "text"
      },
      "source": [
        "###Methodology\n"
      ]
    },
    {
      "cell_type": "markdown",
      "metadata": {
        "id": "LiWmIf5BxXW5",
        "colab_type": "text"
      },
      "source": [
        "###Evaluation\n"
      ]
    },
    {
      "cell_type": "markdown",
      "metadata": {
        "id": "BBWDbawjxb5l",
        "colab_type": "text"
      },
      "source": [
        "###Ethical\n"
      ]
    },
    {
      "cell_type": "markdown",
      "metadata": {
        "id": "s8iaV0ikxZU1",
        "colab_type": "text"
      },
      "source": [
        "###Conclusion\n"
      ]
    },
    {
      "cell_type": "markdown",
      "metadata": {
        "id": "eFEVdwdy5v-i",
        "colab_type": "text"
      },
      "source": [
        "##Loading all M4 data for 2018-19"
      ]
    },
    {
      "cell_type": "code",
      "metadata": {
        "id": "VTFfssmFM1Ah",
        "colab_type": "code",
        "colab": {}
      },
      "source": [
        "import pandas as pd\n",
        "from pandas import DataFrame\n",
        "from statsmodels.tsa.arima_model import ARIMA\n",
        "import matplotlib.pyplot as plt\n",
        "\n",
        "\n",
        "urls=[\n",
        "'https://raw.githubusercontent.com/hrai/M4-Data-Analysis/master/data/M4_passages_2018-07.csv',\n",
        "'https://raw.githubusercontent.com/hrai/M4-Data-Analysis/master/data/M4_passages_2018-08.csv',\n",
        "'https://raw.githubusercontent.com/hrai/M4-Data-Analysis/master/data/M4_passages_2018-09.csv',\n",
        "'https://raw.githubusercontent.com/hrai/M4-Data-Analysis/master/data/M4_passages_2018-10.csv',\n",
        "'https://raw.githubusercontent.com/hrai/M4-Data-Analysis/master/data/M4_passages_2018-11.csv',\n",
        "'https://raw.githubusercontent.com/hrai/M4-Data-Analysis/master/data/M4_passages_2018-12.csv',\n",
        "'https://raw.githubusercontent.com/hrai/M4-Data-Analysis/master/data/M4_passages_2019-01.csv',\n",
        "'https://raw.githubusercontent.com/hrai/M4-Data-Analysis/master/data/M4_passages_2019-02.csv',\n",
        "'https://raw.githubusercontent.com/hrai/M4-Data-Analysis/master/data/M4_passages_2019-03.csv',\n",
        "'https://raw.githubusercontent.com/hrai/M4-Data-Analysis/master/data/M4_passages_2019-04.csv',\n",
        "'https://raw.githubusercontent.com/hrai/M4-Data-Analysis/master/data/M4_passages_2019-05.csv',\n",
        "'https://raw.githubusercontent.com/hrai/M4-Data-Analysis/master/data/M4_passages_2019-06.csv'\n",
        "]\n",
        "\n",
        "df = pd.concat(pd.read_csv(url, parse_dates={'DateTime': ['Date', 'IntervalStart']}) for url in urls)"
      ],
      "execution_count": 0,
      "outputs": []
    },
    {
      "cell_type": "code",
      "metadata": {
        "id": "dZ9YsVU2RPl3",
        "colab_type": "code",
        "outputId": "c2377540-679e-43d2-f1be-c51dbb156c81",
        "colab": {
          "base_uri": "https://localhost:8080/",
          "height": 504
        }
      },
      "source": [
        "count_row,count_col=df.shape\n",
        "\n",
        "print('Total rows: ' + str(count_row))\n",
        "\n",
        "df[:10]"
      ],
      "execution_count": 2,
      "outputs": [
        {
          "output_type": "stream",
          "text": [
            "Total rows: 1116404\n"
          ],
          "name": "stdout"
        },
        {
          "output_type": "execute_result",
          "data": {
            "text/html": [
              "<div>\n",
              "<style scoped>\n",
              "    .dataframe tbody tr th:only-of-type {\n",
              "        vertical-align: middle;\n",
              "    }\n",
              "\n",
              "    .dataframe tbody tr th {\n",
              "        vertical-align: top;\n",
              "    }\n",
              "\n",
              "    .dataframe thead th {\n",
              "        text-align: right;\n",
              "    }\n",
              "</style>\n",
              "<table border=\"1\" class=\"dataframe\">\n",
              "  <thead>\n",
              "    <tr style=\"text-align: right;\">\n",
              "      <th></th>\n",
              "      <th>DateTime</th>\n",
              "      <th>AssetID</th>\n",
              "      <th>FinancialQtrID</th>\n",
              "      <th>IntervalEnd</th>\n",
              "      <th>Version</th>\n",
              "      <th>VehicleClass</th>\n",
              "      <th>TollPointID</th>\n",
              "      <th>GantryDirection</th>\n",
              "      <th>GantryLocation</th>\n",
              "      <th>GantryGPSLatitude</th>\n",
              "      <th>GantryGPSLongitude</th>\n",
              "      <th>GantryType</th>\n",
              "      <th>TotalVolume</th>\n",
              "    </tr>\n",
              "  </thead>\n",
              "  <tbody>\n",
              "    <tr>\n",
              "      <th>0</th>\n",
              "      <td>2018-07-01</td>\n",
              "      <td>M4</td>\n",
              "      <td>201901</td>\n",
              "      <td>00:14</td>\n",
              "      <td>3</td>\n",
              "      <td>Car</td>\n",
              "      <td>TS0101</td>\n",
              "      <td>W</td>\n",
              "      <td>Church St Exit</td>\n",
              "      <td>-33.83</td>\n",
              "      <td>151.00</td>\n",
              "      <td>Mainline</td>\n",
              "      <td>310</td>\n",
              "    </tr>\n",
              "    <tr>\n",
              "      <th>1</th>\n",
              "      <td>2018-07-01</td>\n",
              "      <td>M4</td>\n",
              "      <td>201901</td>\n",
              "      <td>00:14</td>\n",
              "      <td>3</td>\n",
              "      <td>Truck</td>\n",
              "      <td>TS0101</td>\n",
              "      <td>W</td>\n",
              "      <td>Church St Exit</td>\n",
              "      <td>-33.83</td>\n",
              "      <td>151.00</td>\n",
              "      <td>Mainline</td>\n",
              "      <td>4</td>\n",
              "    </tr>\n",
              "    <tr>\n",
              "      <th>2</th>\n",
              "      <td>2018-07-01</td>\n",
              "      <td>M4</td>\n",
              "      <td>201901</td>\n",
              "      <td>00:14</td>\n",
              "      <td>3</td>\n",
              "      <td>Car</td>\n",
              "      <td>TS0102</td>\n",
              "      <td>E</td>\n",
              "      <td>Church St Entry</td>\n",
              "      <td>-33.83</td>\n",
              "      <td>151.00</td>\n",
              "      <td>Mainline</td>\n",
              "      <td>120</td>\n",
              "    </tr>\n",
              "    <tr>\n",
              "      <th>3</th>\n",
              "      <td>2018-07-01</td>\n",
              "      <td>M4</td>\n",
              "      <td>201901</td>\n",
              "      <td>00:14</td>\n",
              "      <td>3</td>\n",
              "      <td>Truck</td>\n",
              "      <td>TS0102</td>\n",
              "      <td>E</td>\n",
              "      <td>Church St Entry</td>\n",
              "      <td>-33.83</td>\n",
              "      <td>151.00</td>\n",
              "      <td>Mainline</td>\n",
              "      <td>2</td>\n",
              "    </tr>\n",
              "    <tr>\n",
              "      <th>4</th>\n",
              "      <td>2018-07-01</td>\n",
              "      <td>M4</td>\n",
              "      <td>201901</td>\n",
              "      <td>00:14</td>\n",
              "      <td>3</td>\n",
              "      <td>Car</td>\n",
              "      <td>TS0201</td>\n",
              "      <td>W</td>\n",
              "      <td>James Ruse Dr Entry</td>\n",
              "      <td>-33.83</td>\n",
              "      <td>151.02</td>\n",
              "      <td>Ramp</td>\n",
              "      <td>23</td>\n",
              "    </tr>\n",
              "    <tr>\n",
              "      <th>5</th>\n",
              "      <td>2018-07-01</td>\n",
              "      <td>M4</td>\n",
              "      <td>201901</td>\n",
              "      <td>00:14</td>\n",
              "      <td>3</td>\n",
              "      <td>Car</td>\n",
              "      <td>TS0202</td>\n",
              "      <td>E</td>\n",
              "      <td>James Ruse Dr Exit</td>\n",
              "      <td>-33.83</td>\n",
              "      <td>151.02</td>\n",
              "      <td>Ramp</td>\n",
              "      <td>4</td>\n",
              "    </tr>\n",
              "    <tr>\n",
              "      <th>6</th>\n",
              "      <td>2018-07-01</td>\n",
              "      <td>M4</td>\n",
              "      <td>201901</td>\n",
              "      <td>00:14</td>\n",
              "      <td>3</td>\n",
              "      <td>Car</td>\n",
              "      <td>TS0301</td>\n",
              "      <td>E</td>\n",
              "      <td>James Ruse Dr Entry</td>\n",
              "      <td>-33.83</td>\n",
              "      <td>151.02</td>\n",
              "      <td>Ramp</td>\n",
              "      <td>43</td>\n",
              "    </tr>\n",
              "    <tr>\n",
              "      <th>7</th>\n",
              "      <td>2018-07-01</td>\n",
              "      <td>M4</td>\n",
              "      <td>201901</td>\n",
              "      <td>00:14</td>\n",
              "      <td>3</td>\n",
              "      <td>Car</td>\n",
              "      <td>TS0401</td>\n",
              "      <td>W</td>\n",
              "      <td>James Ruse Dr Exit</td>\n",
              "      <td>-33.83</td>\n",
              "      <td>151.04</td>\n",
              "      <td>Ramp</td>\n",
              "      <td>81</td>\n",
              "    </tr>\n",
              "    <tr>\n",
              "      <th>8</th>\n",
              "      <td>2018-07-01</td>\n",
              "      <td>M4</td>\n",
              "      <td>201901</td>\n",
              "      <td>00:14</td>\n",
              "      <td>3</td>\n",
              "      <td>Car</td>\n",
              "      <td>TS0501</td>\n",
              "      <td>E</td>\n",
              "      <td>Silverwater Rd Exit</td>\n",
              "      <td>-33.84</td>\n",
              "      <td>151.04</td>\n",
              "      <td>Ramp</td>\n",
              "      <td>20</td>\n",
              "    </tr>\n",
              "    <tr>\n",
              "      <th>9</th>\n",
              "      <td>2018-07-01</td>\n",
              "      <td>M4</td>\n",
              "      <td>201901</td>\n",
              "      <td>00:14</td>\n",
              "      <td>3</td>\n",
              "      <td>Car</td>\n",
              "      <td>TS0601</td>\n",
              "      <td>W</td>\n",
              "      <td>Silverwater Rd Entry</td>\n",
              "      <td>-33.84</td>\n",
              "      <td>151.04</td>\n",
              "      <td>Ramp</td>\n",
              "      <td>39</td>\n",
              "    </tr>\n",
              "  </tbody>\n",
              "</table>\n",
              "</div>"
            ],
            "text/plain": [
              "    DateTime AssetID  ...  GantryType TotalVolume\n",
              "0 2018-07-01      M4  ...    Mainline         310\n",
              "1 2018-07-01      M4  ...    Mainline           4\n",
              "2 2018-07-01      M4  ...    Mainline         120\n",
              "3 2018-07-01      M4  ...    Mainline           2\n",
              "4 2018-07-01      M4  ...        Ramp          23\n",
              "5 2018-07-01      M4  ...        Ramp           4\n",
              "6 2018-07-01      M4  ...        Ramp          43\n",
              "7 2018-07-01      M4  ...        Ramp          81\n",
              "8 2018-07-01      M4  ...        Ramp          20\n",
              "9 2018-07-01      M4  ...        Ramp          39\n",
              "\n",
              "[10 rows x 13 columns]"
            ]
          },
          "metadata": {
            "tags": []
          },
          "execution_count": 2
        }
      ]
    },
    {
      "cell_type": "code",
      "metadata": {
        "id": "uwTLFV4fjP_v",
        "colab_type": "code",
        "outputId": "4c453fb6-1399-4252-93fa-456a8a3f5e28",
        "colab": {
          "base_uri": "https://localhost:8080/",
          "height": 34
        }
      },
      "source": [
        "\n",
        "total_vehicles=df['TotalVolume'].sum()\n",
        "total_vehicles"
      ],
      "execution_count": 3,
      "outputs": [
        {
          "output_type": "execute_result",
          "data": {
            "text/plain": [
              "100433186"
            ]
          },
          "metadata": {
            "tags": []
          },
          "execution_count": 3
        }
      ]
    },
    {
      "cell_type": "code",
      "metadata": {
        "id": "KGHzo36kRZvl",
        "colab_type": "code",
        "outputId": "4d8b537f-4402-4108-da64-357959e09276",
        "colab": {
          "base_uri": "https://localhost:8080/",
          "height": 86
        }
      },
      "source": [
        "df.columns"
      ],
      "execution_count": 4,
      "outputs": [
        {
          "output_type": "execute_result",
          "data": {
            "text/plain": [
              "Index(['DateTime', 'AssetID', 'FinancialQtrID', 'IntervalEnd', 'Version',\n",
              "       'VehicleClass', 'TollPointID', 'GantryDirection', 'GantryLocation',\n",
              "       'GantryGPSLatitude', 'GantryGPSLongitude', 'GantryType', 'TotalVolume'],\n",
              "      dtype='object')"
            ]
          },
          "metadata": {
            "tags": []
          },
          "execution_count": 4
        }
      ]
    },
    {
      "cell_type": "code",
      "metadata": {
        "id": "mot98uc1me-c",
        "colab_type": "code",
        "outputId": "ba4d51c7-34b2-43a3-f44b-e1130f5ec748",
        "colab": {
          "base_uri": "https://localhost:8080/",
          "height": 86
        }
      },
      "source": [
        "total_cars = df.loc[df['VehicleClass']=='Car', 'VehicleClass'].value_counts()\n",
        "print(f\"total cars rows {total_cars}\")\n",
        "\n",
        "total_trucks = df.loc[df['VehicleClass']=='Truck', 'VehicleClass'].value_counts()\n",
        "print(f\"total trucks rows {total_trucks}\")\n"
      ],
      "execution_count": 5,
      "outputs": [
        {
          "output_type": "stream",
          "text": [
            "total cars rows Car    584752\n",
            "Name: VehicleClass, dtype: int64\n",
            "total trucks rows Truck    531652\n",
            "Name: VehicleClass, dtype: int64\n"
          ],
          "name": "stdout"
        }
      ]
    },
    {
      "cell_type": "markdown",
      "metadata": {
        "id": "_hMu7yJDmARe",
        "colab_type": "text"
      },
      "source": [
        "## Check for null values\n",
        "\n"
      ]
    },
    {
      "cell_type": "code",
      "metadata": {
        "id": "XXI8_zrVl95q",
        "colab_type": "code",
        "outputId": "12a23dc1-1b59-4d7e-f17d-a944711604e4",
        "colab": {
          "base_uri": "https://localhost:8080/",
          "height": 34
        }
      },
      "source": [
        "df.isnull().values.any()"
      ],
      "execution_count": 6,
      "outputs": [
        {
          "output_type": "execute_result",
          "data": {
            "text/plain": [
              "False"
            ]
          },
          "metadata": {
            "tags": []
          },
          "execution_count": 6
        }
      ]
    },
    {
      "cell_type": "code",
      "metadata": {
        "id": "-U1MbpaUmeQM",
        "colab_type": "code",
        "outputId": "6a3cab07-915a-4e54-b313-7427372be43e",
        "colab": {
          "base_uri": "https://localhost:8080/",
          "height": 243
        }
      },
      "source": [
        "df.values"
      ],
      "execution_count": 7,
      "outputs": [
        {
          "output_type": "execute_result",
          "data": {
            "text/plain": [
              "array([[Timestamp('2018-07-01 00:00:00'), 'M4', 201901, ..., 151.0,\n",
              "        'Mainline', 310],\n",
              "       [Timestamp('2018-07-01 00:00:00'), 'M4', 201901, ..., 151.0,\n",
              "        'Mainline', 4],\n",
              "       [Timestamp('2018-07-01 00:00:00'), 'M4', 201901, ..., 151.0,\n",
              "        'Mainline', 120],\n",
              "       ...,\n",
              "       [Timestamp('2019-06-30 23:45:00'), 'M4', 201904, ..., 151.07,\n",
              "        'Ramp', 17],\n",
              "       [Timestamp('2019-06-30 23:45:00'), 'M4', 201904, ..., 151.07,\n",
              "        'Ramp', 4],\n",
              "       [Timestamp('2019-06-30 23:45:00'), 'M4', 201904, ..., 151.07,\n",
              "        'Mainline + G', 15]], dtype=object)"
            ]
          },
          "metadata": {
            "tags": []
          },
          "execution_count": 7
        }
      ]
    },
    {
      "cell_type": "markdown",
      "metadata": {
        "id": "qWpleDfPmn7X",
        "colab_type": "text"
      },
      "source": [
        "## Rename column"
      ]
    },
    {
      "cell_type": "code",
      "metadata": {
        "id": "tx5XYTNPmnH2",
        "colab_type": "code",
        "outputId": "6f6afbbb-3325-4f1d-9923-eb98b8e815af",
        "colab": {
          "base_uri": "https://localhost:8080/",
          "height": 104
        }
      },
      "source": [
        "df.rename(columns={'TotalVolume': 'TrafficVolume', 'VehicleClass':'VehicleType'}, inplace=True)\n",
        "df.columns"
      ],
      "execution_count": 8,
      "outputs": [
        {
          "output_type": "execute_result",
          "data": {
            "text/plain": [
              "Index(['DateTime', 'AssetID', 'FinancialQtrID', 'IntervalEnd', 'Version',\n",
              "       'VehicleType', 'TollPointID', 'GantryDirection', 'GantryLocation',\n",
              "       'GantryGPSLatitude', 'GantryGPSLongitude', 'GantryType',\n",
              "       'TrafficVolume'],\n",
              "      dtype='object')"
            ]
          },
          "metadata": {
            "tags": []
          },
          "execution_count": 8
        }
      ]
    },
    {
      "cell_type": "markdown",
      "metadata": {
        "id": "Q2wB-d8dhp2q",
        "colab_type": "text"
      },
      "source": [
        "##Scatter plot of latitude and longitude"
      ]
    },
    {
      "cell_type": "code",
      "metadata": {
        "id": "LelSIjy6hqd1",
        "colab_type": "code",
        "outputId": "967795ca-4b8a-4f86-8e30-68798a4c5a85",
        "colab": {
          "base_uri": "https://localhost:8080/",
          "height": 269
        }
      },
      "source": [
        "plt.scatter(x=df['GantryGPSLatitude'], y=df['GantryGPSLongitude'])\n",
        "plt.show()"
      ],
      "execution_count": 9,
      "outputs": [
        {
          "output_type": "display_data",
          "data": {
            "image/png": "[encoded data removed]",
            "text/plain": [
              "<Figure size 432x288 with 1 Axes>"
            ]
          },
          "metadata": {
            "tags": []
          }
        }
      ]
    },
    {
      "cell_type": "code",
      "metadata": {
        "id": "EOSNbYlzia6W",
        "colab_type": "code",
        "outputId": "f7b1c97a-2832-4423-cdaa-931ef6bf4629",
        "colab": {
          "base_uri": "https://localhost:8080/",
          "height": 380
        }
      },
      "source": [
        "##Temp-remove - correlation heatmap\n",
        "import seaborn as sns\n",
        "corr = df.corr()\n",
        "sns.heatmap(corr, xticklabels=corr.columns, yticklabels=corr.columns, cmap=sns.diverging_palette(220, 10, as_cmap=True))\n"
      ],
      "execution_count": 10,
      "outputs": [
        {
          "output_type": "execute_result",
          "data": {
            "text/plain": [
              "<matplotlib.axes._subplots.AxesSubplot at 0x7fae500d5438>"
            ]
          },
          "metadata": {
            "tags": []
          },
          "execution_count": 10
        },
        {
          "output_type": "display_data",
          "data": {
            "image/png": "[encoded data removed]",
            "text/plain": [
              "<Figure size 432x288 with 2 Axes>"
            ]
          },
          "metadata": {
            "tags": []
          }
        }
      ]
    },
    {
      "cell_type": "markdown",
      "metadata": {
        "id": "Uevzw96xsoxD",
        "colab_type": "text"
      },
      "source": [
        "## Checking latitute and longitude against GantryLocation"
      ]
    },
    {
      "cell_type": "code",
      "metadata": {
        "id": "Kpko6jXMsuPP",
        "colab_type": "code",
        "outputId": "b27d7fba-7b66-469a-834b-c0c361233792",
        "colab": {
          "base_uri": "https://localhost:8080/",
          "height": 243
        }
      },
      "source": [
        "temp_df=df[['GantryLocation','GantryGPSLatitude','GantryGPSLongitude','TollPointID']].groupby(by=['GantryLocation'])\n",
        "print(temp_df.first())"
      ],
      "execution_count": 11,
      "outputs": [
        {
          "output_type": "stream",
          "text": [
            "                            GantryGPSLatitude  GantryGPSLongitude TollPointID\n",
            "GantryLocation                                                               \n",
            "Church St Entry                        -33.83              151.00      TS0102\n",
            "Church St Exit                         -33.83              151.00      TS0101\n",
            "Hill Rd Entry                          -33.85              151.05      TS1001\n",
            "Hill Rd Exit                           -33.85              151.05      TS0901\n",
            "Homebush Bay Dr (NB) Entry             -33.86              151.07      TS1301\n",
            "Homebush Bay Dr Entry                  -33.86              151.07      TS1401\n",
            "Homebush Bay Dr Exit                   -33.86              151.07      TS1201\n",
            "James Ruse Dr Entry                    -33.83              151.02      TS0201\n",
            "James Ruse Dr Exit                     -33.83              151.02      TS0202\n",
            "Silverwater Rd Entry                   -33.84              151.04      TS0601\n",
            "Silverwater Rd Exit                    -33.84              151.04      TS0501\n"
          ],
          "name": "stdout"
        }
      ]
    },
    {
      "cell_type": "markdown",
      "metadata": {
        "id": "0RaxLTyGKoTl",
        "colab_type": "text"
      },
      "source": [
        "##Checking unique values"
      ]
    },
    {
      "cell_type": "code",
      "metadata": {
        "id": "K8tLd1sqtQ1Z",
        "colab_type": "code",
        "outputId": "2cf67eef-e7cc-4990-edd2-e6a9cb627266",
        "colab": {
          "base_uri": "https://localhost:8080/",
          "height": 191
        }
      },
      "source": [
        "print(df['AssetID'].unique())\n",
        "print(df['Version'].unique())\n",
        "print(df['FinancialQtrID'].unique())\n",
        "\n",
        "locs=df['GantryLocation'].unique()\n",
        "print(locs)\n",
        "print(locs.size)\n",
        "print(df['VehicleType'].unique())\n",
        "print(df['GantryType'].unique())"
      ],
      "execution_count": 15,
      "outputs": [
        {
          "output_type": "stream",
          "text": [
            "['M4']\n",
            "[3 2 1]\n",
            "[201901 201902 201903 201904]\n",
            "['Church St Exit' 'Church St Entry' 'James Ruse Dr Entry'\n",
            " 'James Ruse Dr Exit' 'Silverwater Rd Exit' 'Silverwater Rd Entry'\n",
            " 'Hill Rd Exit' 'Hill Rd Entry' 'Homebush Bay Dr Exit'\n",
            " 'Homebush Bay Dr (NB) Entry' 'Homebush Bay Dr Entry']\n",
            "11\n",
            "['Car' 'Truck']\n",
            "['Mainline' 'Ramp' 'Mainline + G']\n"
          ],
          "name": "stdout"
        }
      ]
    },
    {
      "cell_type": "markdown",
      "metadata": {
        "id": "PT4jT9cyswAo",
        "colab_type": "text"
      },
      "source": [
        "## Drop unwanted columns like latitude and longitude"
      ]
    },
    {
      "cell_type": "code",
      "metadata": {
        "id": "cOg5gb0AszT9",
        "colab_type": "code",
        "outputId": "e068ddfd-817f-4012-a070-68dcf38a94a9",
        "colab": {
          "base_uri": "https://localhost:8080/"
        }
      },
      "source": [
        "df.drop(['GantryGPSLatitude', 'GantryGPSLongitude','AssetID', 'Version','TollPointID','FinancialQtrID'], axis = 1, inplace=True)\n",
        "df.columns"
      ],
      "execution_count": 0,
      "outputs": [
        {
          "output_type": "execute_result",
          "data": {
            "text/plain": [
              "Index(['DateTime', 'IntervalEnd', 'VehicleType', 'GantryDirection',\n",
              "       'GantryLocation', 'GantryType', 'TrafficVolume'],\n",
              "      dtype='object')"
            ]
          },
          "metadata": {
            "tags": []
          },
          "execution_count": 129
        }
      ]
    },
    {
      "cell_type": "markdown",
      "metadata": {
        "id": "oTpeiQKPLm_e",
        "colab_type": "text"
      },
      "source": [
        "##Grouping data"
      ]
    },
    {
      "cell_type": "code",
      "metadata": {
        "id": "Ac6EJKOMZINl",
        "colab_type": "code",
        "outputId": "4dde58cd-789c-4e14-9394-dee51e60045b",
        "colab": {
          "base_uri": "https://localhost:8080/"
        }
      },
      "source": [
        "group_by_gantry_type = df[['GantryType', 'VehicleType','TrafficVolume']].groupby(by=['GantryType', 'VehicleType'])\n",
        "group_by_gantry_type.head(2)\n"
      ],
      "execution_count": 0,
      "outputs": [
        {
          "output_type": "execute_result",
          "data": {
            "text/html": [
              "<div>\n",
              "<style scoped>\n",
              "    .dataframe tbody tr th:only-of-type {\n",
              "        vertical-align: middle;\n",
              "    }\n",
              "\n",
              "    .dataframe tbody tr th {\n",
              "        vertical-align: top;\n",
              "    }\n",
              "\n",
              "    .dataframe thead th {\n",
              "        text-align: right;\n",
              "    }\n",
              "</style>\n",
              "<table border=\"1\" class=\"dataframe\">\n",
              "  <thead>\n",
              "    <tr style=\"text-align: right;\">\n",
              "      <th></th>\n",
              "      <th>GantryType</th>\n",
              "      <th>VehicleType</th>\n",
              "      <th>TrafficVolume</th>\n",
              "    </tr>\n",
              "  </thead>\n",
              "  <tbody>\n",
              "    <tr>\n",
              "      <th>0</th>\n",
              "      <td>Mainline</td>\n",
              "      <td>Car</td>\n",
              "      <td>310</td>\n",
              "    </tr>\n",
              "    <tr>\n",
              "      <th>1</th>\n",
              "      <td>Mainline</td>\n",
              "      <td>Truck</td>\n",
              "      <td>4</td>\n",
              "    </tr>\n",
              "    <tr>\n",
              "      <th>2</th>\n",
              "      <td>Mainline</td>\n",
              "      <td>Car</td>\n",
              "      <td>120</td>\n",
              "    </tr>\n",
              "    <tr>\n",
              "      <th>3</th>\n",
              "      <td>Mainline</td>\n",
              "      <td>Truck</td>\n",
              "      <td>2</td>\n",
              "    </tr>\n",
              "    <tr>\n",
              "      <th>4</th>\n",
              "      <td>Ramp</td>\n",
              "      <td>Car</td>\n",
              "      <td>23</td>\n",
              "    </tr>\n",
              "    <tr>\n",
              "      <th>5</th>\n",
              "      <td>Ramp</td>\n",
              "      <td>Car</td>\n",
              "      <td>4</td>\n",
              "    </tr>\n",
              "    <tr>\n",
              "      <th>10</th>\n",
              "      <td>Ramp</td>\n",
              "      <td>Truck</td>\n",
              "      <td>1</td>\n",
              "    </tr>\n",
              "    <tr>\n",
              "      <th>13</th>\n",
              "      <td>Ramp</td>\n",
              "      <td>Truck</td>\n",
              "      <td>1</td>\n",
              "    </tr>\n",
              "    <tr>\n",
              "      <th>22</th>\n",
              "      <td>Mainline + G</td>\n",
              "      <td>Car</td>\n",
              "      <td>266</td>\n",
              "    </tr>\n",
              "    <tr>\n",
              "      <th>23</th>\n",
              "      <td>Mainline + G</td>\n",
              "      <td>Truck</td>\n",
              "      <td>3</td>\n",
              "    </tr>\n",
              "    <tr>\n",
              "      <th>49</th>\n",
              "      <td>Mainline + G</td>\n",
              "      <td>Car</td>\n",
              "      <td>204</td>\n",
              "    </tr>\n",
              "    <tr>\n",
              "      <th>50</th>\n",
              "      <td>Mainline + G</td>\n",
              "      <td>Truck</td>\n",
              "      <td>1</td>\n",
              "    </tr>\n",
              "  </tbody>\n",
              "</table>\n",
              "</div>"
            ],
            "text/plain": [
              "      GantryType VehicleType  TrafficVolume\n",
              "0       Mainline         Car            310\n",
              "1       Mainline       Truck              4\n",
              "2       Mainline         Car            120\n",
              "3       Mainline       Truck              2\n",
              "4           Ramp         Car             23\n",
              "5           Ramp         Car              4\n",
              "10          Ramp       Truck              1\n",
              "13          Ramp       Truck              1\n",
              "22  Mainline + G         Car            266\n",
              "23  Mainline + G       Truck              3\n",
              "49  Mainline + G         Car            204\n",
              "50  Mainline + G       Truck              1"
            ]
          },
          "metadata": {
            "tags": []
          },
          "execution_count": 130
        }
      ]
    },
    {
      "cell_type": "markdown",
      "metadata": {
        "id": "CHJD9J8OL2pd",
        "colab_type": "text"
      },
      "source": [
        "##Getting average and total counts from the grouping"
      ]
    },
    {
      "cell_type": "code",
      "metadata": {
        "id": "yuCsnsB8jRdY",
        "colab_type": "code",
        "outputId": "fad9208c-9e08-4878-8766-3973645d7aba",
        "colab": {
          "base_uri": "https://localhost:8080/"
        }
      },
      "source": [
        "car_data_avg = group_by_gantry_type.mean()\n",
        "car_data_count = group_by_gantry_type.count()\n",
        "\n",
        "print(car_data_avg.head(2))\n",
        "\n",
        "car_data_count"
      ],
      "execution_count": 0,
      "outputs": [
        {
          "output_type": "stream",
          "text": [
            "                        TrafficVolume\n",
            "GantryType VehicleType               \n",
            "Mainline   Car             407.192530\n",
            "           Truck            34.623886\n"
          ],
          "name": "stdout"
        },
        {
          "output_type": "execute_result",
          "data": {
            "text/html": [
              "<div>\n",
              "<style scoped>\n",
              "    .dataframe tbody tr th:only-of-type {\n",
              "        vertical-align: middle;\n",
              "    }\n",
              "\n",
              "    .dataframe tbody tr th {\n",
              "        vertical-align: top;\n",
              "    }\n",
              "\n",
              "    .dataframe thead th {\n",
              "        text-align: right;\n",
              "    }\n",
              "</style>\n",
              "<table border=\"1\" class=\"dataframe\">\n",
              "  <thead>\n",
              "    <tr style=\"text-align: right;\">\n",
              "      <th></th>\n",
              "      <th></th>\n",
              "      <th>TrafficVolume</th>\n",
              "    </tr>\n",
              "    <tr>\n",
              "      <th>GantryType</th>\n",
              "      <th>VehicleType</th>\n",
              "      <th></th>\n",
              "    </tr>\n",
              "  </thead>\n",
              "  <tbody>\n",
              "    <tr>\n",
              "      <th rowspan=\"2\" valign=\"top\">Mainline</th>\n",
              "      <th>Car</th>\n",
              "      <td>102405</td>\n",
              "    </tr>\n",
              "    <tr>\n",
              "      <th>Truck</th>\n",
              "      <td>101339</td>\n",
              "    </tr>\n",
              "    <tr>\n",
              "      <th rowspan=\"2\" valign=\"top\">Mainline + G</th>\n",
              "      <th>Car</th>\n",
              "      <td>34896</td>\n",
              "    </tr>\n",
              "    <tr>\n",
              "      <th>Truck</th>\n",
              "      <td>34034</td>\n",
              "    </tr>\n",
              "    <tr>\n",
              "      <th rowspan=\"2\" valign=\"top\">Ramp</th>\n",
              "      <th>Car</th>\n",
              "      <td>447451</td>\n",
              "    </tr>\n",
              "    <tr>\n",
              "      <th>Truck</th>\n",
              "      <td>396279</td>\n",
              "    </tr>\n",
              "  </tbody>\n",
              "</table>\n",
              "</div>"
            ],
            "text/plain": [
              "                          TrafficVolume\n",
              "GantryType   VehicleType               \n",
              "Mainline     Car                 102405\n",
              "             Truck               101339\n",
              "Mainline + G Car                  34896\n",
              "             Truck                34034\n",
              "Ramp         Car                 447451\n",
              "             Truck               396279"
            ]
          },
          "metadata": {
            "tags": []
          },
          "execution_count": 131
        }
      ]
    },
    {
      "cell_type": "markdown",
      "metadata": {
        "id": "7iQ1MQjrKSox",
        "colab_type": "text"
      },
      "source": [
        "##Plotting aggregates onto bar chart - Most of the vehicles are recorded via Ramp"
      ]
    },
    {
      "cell_type": "code",
      "metadata": {
        "id": "bXHrTP41d3-0",
        "colab_type": "code",
        "outputId": "d5b8e0cb-b7cc-4a52-e6da-2d444b93f870",
        "colab": {
          "base_uri": "https://localhost:8080/"
        }
      },
      "source": [
        "car_data_count.sort_values(by='TrafficVolume').plot(kind='barh')"
      ],
      "execution_count": 0,
      "outputs": [
        {
          "output_type": "execute_result",
          "data": {
            "text/plain": [
              "<matplotlib.axes._subplots.AxesSubplot at 0x7f5175a0d320>"
            ]
          },
          "metadata": {
            "tags": []
          },
          "execution_count": 132
        },
        {
          "output_type": "display_data",
          "data": {
            "image/png": "[encoded data removed]",
            "text/plain": [
              "<Figure size 432x288 with 1 Axes>"
            ]
          },
          "metadata": {
            "tags": []
          }
        }
      ]
    },
    {
      "cell_type": "code",
      "metadata": {
        "id": "qKKrj6mFqSQU",
        "colab_type": "code",
        "outputId": "2a8abfea-f5f8-4671-cb64-3fb98e506cd6",
        "colab": {
          "base_uri": "https://localhost:8080/"
        }
      },
      "source": [
        "\n",
        "# Draw Plot\n",
        "def plot_df(df, x, y, title=\"\", xlabel='Date', ylabel='Traffic volume', dpi=100):\n",
        "    plt.figure(figsize=(16,5), dpi=dpi)\n",
        "    plt.plot(x, y, color='tab:red')\n",
        "    plt.gca().set(title=title, xlabel=xlabel, ylabel=ylabel)\n",
        "    plt.show()\n",
        "\n",
        "plot_df(df, x=df['DateTime'], y=df['TrafficVolume'], title='Flow of traffic in M4.') "
      ],
      "execution_count": 0,
      "outputs": [
        {
          "output_type": "display_data",
          "data": {
            "image/png": "[encoded data removed]",
            "text/plain": [
              "<Figure size 1600x500 with 1 Axes>"
            ]
          },
          "metadata": {
            "tags": []
          }
        }
      ]
    },
    {
      "cell_type": "markdown",
      "metadata": {
        "id": "0oNHkzChyFl8",
        "colab_type": "text"
      },
      "source": [
        ""
      ]
    },
    {
      "cell_type": "markdown",
      "metadata": {
        "id": "qY6UDSOazmdH",
        "colab_type": "text"
      },
      "source": [
        "##Scatter plot - Traffic in days of week\n"
      ]
    },
    {
      "cell_type": "code",
      "metadata": {
        "id": "iDl6zKpPypiQ",
        "colab_type": "code",
        "outputId": "8460e7f7-1a7b-4b82-c37f-581c9a86582b",
        "colab": {
          "base_uri": "https://localhost:8080/"
        }
      },
      "source": [
        "df['Day'] = df['DateTime'].dt.day_name()\n",
        "\n",
        "sns.pairplot(x_vars=[\"Day\"], y_vars=[\"TrafficVolume\"],\n",
        "             data=df, height=7)"
      ],
      "execution_count": 0,
      "outputs": [
        {
          "output_type": "execute_result",
          "data": {
            "text/plain": [
              "<seaborn.axisgrid.PairGrid at 0x7f5175c652b0>"
            ]
          },
          "metadata": {
            "tags": []
          },
          "execution_count": 134
        }
      ]
    },
    {
      "cell_type": "markdown",
      "metadata": {
        "id": "CXj3-Vo5V7fZ",
        "colab_type": "text"
      },
      "source": [
        "##Scatter plot - Traffic in 12 months"
      ]
    },
    {
      "cell_type": "code",
      "metadata": {
        "id": "nnddznsrVSCM",
        "colab_type": "code",
        "colab": {}
      },
      "source": [
        "df['Month'] = df['DateTime'].map(lambda x: x.strftime('%Y-%m'))\n",
        "\n",
        "sns.pairplot(x_vars=[\"Month\"], y_vars=[\"TrafficVolume\"],\n",
        "             data=df, height=11)"
      ],
      "execution_count": 0,
      "outputs": []
    },
    {
      "cell_type": "markdown",
      "metadata": {
        "id": "Hv2DSBS9HWwf",
        "colab_type": "text"
      },
      "source": [
        "##Date filters for a day's data"
      ]
    },
    {
      "cell_type": "code",
      "metadata": {
        "id": "joUkfOx81EaQ",
        "colab_type": "code",
        "colab": {}
      },
      "source": [
        "start_date=pd.to_datetime('1 Jun 2019 00:00AM')\n",
        "end_date=pd.to_datetime('1 Jun 2019 11:59PM')\n",
        "\n",
        "#apply date filter\n",
        "mask = (df['DateTime'] > start_date) & (df['DateTime'] <= end_date)\n",
        "df_day=df.loc[mask]\n",
        "\n",
        "#check unique value in month column\n",
        "df_day.Month.unique()\n"
      ],
      "execution_count": 0,
      "outputs": []
    },
    {
      "cell_type": "code",
      "metadata": {
        "id": "pK4Gn3T18Gc2",
        "colab_type": "code",
        "colab": {}
      },
      "source": [
        "df_day['Time'] = df_day['DateTime'].map(lambda x: x.strftime('%H:%M'))\n",
        "df_day.drop(columns=['DateTime'], inplace=True)\n",
        "df_day.head()\n"
      ],
      "execution_count": 0,
      "outputs": []
    },
    {
      "cell_type": "code",
      "metadata": {
        "id": "54nujZ9bEztp",
        "colab_type": "code",
        "colab": {}
      },
      "source": [
        "from matplotlib import pyplot as plt\n",
        "\n",
        "plt.figure(figsize=(18,25))\n",
        "sns.barplot(x='TrafficVolume', y='Time', data=df_day)\n",
        "\n",
        "#from matplotlib import pyplot as plt\n",
        "\n",
        "#plt.figure(figsize=(25,18))\n",
        "#sns.lineplot(x='Time', y='TrafficVolume', data=df_day)\n",
        "\n"
      ],
      "execution_count": 0,
      "outputs": []
    },
    {
      "cell_type": "markdown",
      "metadata": {
        "id": "toleZSgCU796",
        "colab_type": "text"
      },
      "source": [
        "##Method to create rolling mean/std"
      ]
    },
    {
      "cell_type": "code",
      "metadata": {
        "id": "qp19GH-YShLr",
        "colab_type": "code",
        "colab": {}
      },
      "source": [
        "def test_stationarity_of_timeseries(timeseries):\n",
        "    #Determing rolling statistics\n",
        "    rolmean = timeseries.rolling(12).mean()\n",
        "    rolstd = timeseries.rolling(12).std()\n",
        "\n",
        "    #Plot rolling statistics:\n",
        "    orig = plt.plot(timeseries, color='blue',label='Original')\n",
        "    mean = plt.plot(rolmean, color='red', label='Rolling Mean')\n",
        "    std = plt.plot(rolstd, color='black', label = 'Rolling Std')\n",
        "    plt.legend(loc='best')\n",
        "    plt.title('Rolling Mean & Standard Deviation')\n",
        "    plt.show(block=False)\n"
      ],
      "execution_count": 0,
      "outputs": []
    },
    {
      "cell_type": "markdown",
      "metadata": {
        "id": "ktAf1AYPUbgL",
        "colab_type": "text"
      },
      "source": [
        "##Creating rolling mean/std"
      ]
    },
    {
      "cell_type": "code",
      "metadata": {
        "id": "9LQZOq0cUery",
        "colab_type": "code",
        "colab": {}
      },
      "source": [
        "df_stationarity=df[['DateTime','TrafficVolume']].set_index('DateTime')\n",
        "test_stationarity_of_timeseries(df_stationarity)"
      ],
      "execution_count": 0,
      "outputs": []
    },
    {
      "cell_type": "code",
      "metadata": {
        "id": "6FUZSVUxkXQU",
        "colab_type": "code",
        "colab": {}
      },
      "source": [
        "import numpy as np\n",
        "df_stationarity_log = np.log(df_stationarity)\n",
        "test_stationarity_of_timeseries(df_stationarity_log)"
      ],
      "execution_count": 0,
      "outputs": []
    },
    {
      "cell_type": "markdown",
      "metadata": {
        "id": "5j1v-jiom-te",
        "colab_type": "text"
      },
      "source": [
        "##Creating Test and Train datasets"
      ]
    },
    {
      "cell_type": "code",
      "metadata": {
        "id": "yZqnGIWAmv22",
        "colab_type": "code",
        "colab": {}
      },
      "source": [
        "df_prediction=df[['DateTime','TrafficVolume']]\n",
        "df_prediction.set_index('DateTime', inplace=True)\n",
        "\n",
        "train_size = int(len(df_prediction) * 0.66)\n",
        "train, test = df_prediction[0:train_size], df_prediction[train_size:]\n",
        "\n",
        "train.head(5)\n"
      ],
      "execution_count": 0,
      "outputs": []
    },
    {
      "cell_type": "code",
      "metadata": {
        "id": "-G7I1jUe72Tp",
        "colab_type": "code",
        "colab": {}
      },
      "source": [
        "# fit model\n",
        "model = ARIMA(train.values.astype(float), order=(5,1,0))\n",
        "fitted_model = model.fit(disp=0)\n",
        "print(fitted_model.summary())\n",
        "# plot residual errors\n",
        "residuals = DataFrame(fitted_model.resid)\n",
        "residuals.plot()\n",
        "plt.show()\n",
        "residuals.plot(kind='kde')\n",
        "plt.show()\n",
        "print(residuals.describe())"
      ],
      "execution_count": 0,
      "outputs": []
    },
    {
      "cell_type": "code",
      "metadata": {
        "id": "54UFTxdYyZpY",
        "colab_type": "code",
        "outputId": "a58b1151-1288-4ae9-e805-4afde2cd4c97",
        "colab": {
          "base_uri": "https://localhost:8080/",
          "height": 460
        }
      },
      "source": [
        "\n",
        "# Forecast\n",
        "test_rows_count=test.shape[0]\n",
        "fc, se, conf = fitted_model.forecast(test_rows_count, alpha=0.05)  # 95% conf\n",
        "\n",
        "# Make as pandas series\n",
        "fc_series = pd.Series(fc, index=test.index)\n",
        "lower_series = pd.Series(conf[:, 0], index=test.index)\n",
        "upper_series = pd.Series(conf[:, 1], index=test.index)\n",
        "\n",
        "# Plot\n",
        "plt.figure(figsize=(12,5), dpi=100)\n",
        "plt.plot(train, label='training')\n",
        "plt.plot(test, label='actual')\n",
        "plt.plot(fc_series, label='forecast')\n",
        "plt.fill_between(lower_series.index, lower_series, upper_series, \n",
        "                 color='k', alpha=.15)\n",
        "plt.title('Forecast vs Actuals')\n",
        "plt.legend(loc='upper left', fontsize=8)\n",
        "plt.show()"
      ],
      "execution_count": 0,
      "outputs": [
        {
          "output_type": "display_data",
          "data": {
            "image/png": "[encoded data removed]",
            "text/plain": [
              "<Figure size 1200x500 with 1 Axes>"
            ]
          },
          "metadata": {
            "tags": []
          }
        }
      ]
    }
  ]
}