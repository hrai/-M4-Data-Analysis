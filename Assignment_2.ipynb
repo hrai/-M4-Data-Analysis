{
  "nbformat": 4,
  "nbformat_minor": 0,
  "metadata": {
    "colab": {
      "name": "Assignment 2.ipynb",
      "version": "0.3.2",
      "provenance": [],
      "include_colab_link": true
    },
    "kernelspec": {
      "name": "python3",
      "display_name": "Python 3"
    }
  },
  "cells": [
    {
      "cell_type": "markdown",
      "metadata": {
        "id": "view-in-github",
        "colab_type": "text"
      },
      "source": [
        "<a href=\"https://colab.research.google.com/github/hrai/M4-Data-Analysis/blob/master/Assignment_2.ipynb\" target=\"_parent\"><img src=\"https://colab.research.google.com/assets/colab-badge.svg\" alt=\"Open In Colab\"/></a>"
      ]
    },
    {
      "cell_type": "code",
      "metadata": {
        "id": "VTFfssmFM1Ah",
        "colab_type": "code",
        "colab": {}
      },
      "source": [
        "import pandas as pd\n",
        "\n",
        "import matplotlib.pyplot as plt\n",
        "\n",
        "url='https://raw.githubusercontent.com/hrai/M4-Data-Analysis/master/data/M4_passages_2018-07.csv'\n",
        "df = pd.read_csv(url, parse_dates={'DateTime': ['Date', 'IntervalStart']})\n"
      ],
      "execution_count": 0,
      "outputs": []
    },
    {
      "cell_type": "code",
      "metadata": {
        "id": "dZ9YsVU2RPl3",
        "colab_type": "code",
        "outputId": "89506f45-f272-404f-d81e-cad8aba452d3",
        "colab": {
          "base_uri": "https://localhost:8080/",
          "height": 504
        }
      },
      "source": [
        "count_row,count_col=df.shape\n",
        "\n",
        "print('Total rows: ' + str(count_row))\n",
        "\n",
        "df[:10]"
      ],
      "execution_count": 78,
      "outputs": [
        {
          "output_type": "stream",
          "text": [
            "Total rows: 94948\n"
          ],
          "name": "stdout"
        },
        {
          "output_type": "execute_result",
          "data": {
            "text/html": [
              "<div>\n",
              "<style scoped>\n",
              "    .dataframe tbody tr th:only-of-type {\n",
              "        vertical-align: middle;\n",
              "    }\n",
              "\n",
              "    .dataframe tbody tr th {\n",
              "        vertical-align: top;\n",
              "    }\n",
              "\n",
              "    .dataframe thead th {\n",
              "        text-align: right;\n",
              "    }\n",
              "</style>\n",
              "<table border=\"1\" class=\"dataframe\">\n",
              "  <thead>\n",
              "    <tr style=\"text-align: right;\">\n",
              "      <th></th>\n",
              "      <th>DateTime</th>\n",
              "      <th>AssetID</th>\n",
              "      <th>FinancialQtrID</th>\n",
              "      <th>IntervalEnd</th>\n",
              "      <th>Version</th>\n",
              "      <th>VehicleClass</th>\n",
              "      <th>TollPointID</th>\n",
              "      <th>GantryDirection</th>\n",
              "      <th>GantryLocation</th>\n",
              "      <th>GantryGPSLatitude</th>\n",
              "      <th>GantryGPSLongitude</th>\n",
              "      <th>GantryType</th>\n",
              "      <th>TotalVolume</th>\n",
              "    </tr>\n",
              "  </thead>\n",
              "  <tbody>\n",
              "    <tr>\n",
              "      <th>0</th>\n",
              "      <td>2018-07-01</td>\n",
              "      <td>M4</td>\n",
              "      <td>201901</td>\n",
              "      <td>00:14</td>\n",
              "      <td>3</td>\n",
              "      <td>Car</td>\n",
              "      <td>TS0101</td>\n",
              "      <td>W</td>\n",
              "      <td>Church St Exit</td>\n",
              "      <td>-33.83</td>\n",
              "      <td>151.00</td>\n",
              "      <td>Mainline</td>\n",
              "      <td>310</td>\n",
              "    </tr>\n",
              "    <tr>\n",
              "      <th>1</th>\n",
              "      <td>2018-07-01</td>\n",
              "      <td>M4</td>\n",
              "      <td>201901</td>\n",
              "      <td>00:14</td>\n",
              "      <td>3</td>\n",
              "      <td>Truck</td>\n",
              "      <td>TS0101</td>\n",
              "      <td>W</td>\n",
              "      <td>Church St Exit</td>\n",
              "      <td>-33.83</td>\n",
              "      <td>151.00</td>\n",
              "      <td>Mainline</td>\n",
              "      <td>4</td>\n",
              "    </tr>\n",
              "    <tr>\n",
              "      <th>2</th>\n",
              "      <td>2018-07-01</td>\n",
              "      <td>M4</td>\n",
              "      <td>201901</td>\n",
              "      <td>00:14</td>\n",
              "      <td>3</td>\n",
              "      <td>Car</td>\n",
              "      <td>TS0102</td>\n",
              "      <td>E</td>\n",
              "      <td>Church St Entry</td>\n",
              "      <td>-33.83</td>\n",
              "      <td>151.00</td>\n",
              "      <td>Mainline</td>\n",
              "      <td>120</td>\n",
              "    </tr>\n",
              "    <tr>\n",
              "      <th>3</th>\n",
              "      <td>2018-07-01</td>\n",
              "      <td>M4</td>\n",
              "      <td>201901</td>\n",
              "      <td>00:14</td>\n",
              "      <td>3</td>\n",
              "      <td>Truck</td>\n",
              "      <td>TS0102</td>\n",
              "      <td>E</td>\n",
              "      <td>Church St Entry</td>\n",
              "      <td>-33.83</td>\n",
              "      <td>151.00</td>\n",
              "      <td>Mainline</td>\n",
              "      <td>2</td>\n",
              "    </tr>\n",
              "    <tr>\n",
              "      <th>4</th>\n",
              "      <td>2018-07-01</td>\n",
              "      <td>M4</td>\n",
              "      <td>201901</td>\n",
              "      <td>00:14</td>\n",
              "      <td>3</td>\n",
              "      <td>Car</td>\n",
              "      <td>TS0201</td>\n",
              "      <td>W</td>\n",
              "      <td>James Ruse Dr Entry</td>\n",
              "      <td>-33.83</td>\n",
              "      <td>151.02</td>\n",
              "      <td>Ramp</td>\n",
              "      <td>23</td>\n",
              "    </tr>\n",
              "    <tr>\n",
              "      <th>5</th>\n",
              "      <td>2018-07-01</td>\n",
              "      <td>M4</td>\n",
              "      <td>201901</td>\n",
              "      <td>00:14</td>\n",
              "      <td>3</td>\n",
              "      <td>Car</td>\n",
              "      <td>TS0202</td>\n",
              "      <td>E</td>\n",
              "      <td>James Ruse Dr Exit</td>\n",
              "      <td>-33.83</td>\n",
              "      <td>151.02</td>\n",
              "      <td>Ramp</td>\n",
              "      <td>4</td>\n",
              "    </tr>\n",
              "    <tr>\n",
              "      <th>6</th>\n",
              "      <td>2018-07-01</td>\n",
              "      <td>M4</td>\n",
              "      <td>201901</td>\n",
              "      <td>00:14</td>\n",
              "      <td>3</td>\n",
              "      <td>Car</td>\n",
              "      <td>TS0301</td>\n",
              "      <td>E</td>\n",
              "      <td>James Ruse Dr Entry</td>\n",
              "      <td>-33.83</td>\n",
              "      <td>151.02</td>\n",
              "      <td>Ramp</td>\n",
              "      <td>43</td>\n",
              "    </tr>\n",
              "    <tr>\n",
              "      <th>7</th>\n",
              "      <td>2018-07-01</td>\n",
              "      <td>M4</td>\n",
              "      <td>201901</td>\n",
              "      <td>00:14</td>\n",
              "      <td>3</td>\n",
              "      <td>Car</td>\n",
              "      <td>TS0401</td>\n",
              "      <td>W</td>\n",
              "      <td>James Ruse Dr Exit</td>\n",
              "      <td>-33.83</td>\n",
              "      <td>151.04</td>\n",
              "      <td>Ramp</td>\n",
              "      <td>81</td>\n",
              "    </tr>\n",
              "    <tr>\n",
              "      <th>8</th>\n",
              "      <td>2018-07-01</td>\n",
              "      <td>M4</td>\n",
              "      <td>201901</td>\n",
              "      <td>00:14</td>\n",
              "      <td>3</td>\n",
              "      <td>Car</td>\n",
              "      <td>TS0501</td>\n",
              "      <td>E</td>\n",
              "      <td>Silverwater Rd Exit</td>\n",
              "      <td>-33.84</td>\n",
              "      <td>151.04</td>\n",
              "      <td>Ramp</td>\n",
              "      <td>20</td>\n",
              "    </tr>\n",
              "    <tr>\n",
              "      <th>9</th>\n",
              "      <td>2018-07-01</td>\n",
              "      <td>M4</td>\n",
              "      <td>201901</td>\n",
              "      <td>00:14</td>\n",
              "      <td>3</td>\n",
              "      <td>Car</td>\n",
              "      <td>TS0601</td>\n",
              "      <td>W</td>\n",
              "      <td>Silverwater Rd Entry</td>\n",
              "      <td>-33.84</td>\n",
              "      <td>151.04</td>\n",
              "      <td>Ramp</td>\n",
              "      <td>39</td>\n",
              "    </tr>\n",
              "  </tbody>\n",
              "</table>\n",
              "</div>"
            ],
            "text/plain": [
              "    DateTime AssetID  ...  GantryType TotalVolume\n",
              "0 2018-07-01      M4  ...    Mainline         310\n",
              "1 2018-07-01      M4  ...    Mainline           4\n",
              "2 2018-07-01      M4  ...    Mainline         120\n",
              "3 2018-07-01      M4  ...    Mainline           2\n",
              "4 2018-07-01      M4  ...        Ramp          23\n",
              "5 2018-07-01      M4  ...        Ramp           4\n",
              "6 2018-07-01      M4  ...        Ramp          43\n",
              "7 2018-07-01      M4  ...        Ramp          81\n",
              "8 2018-07-01      M4  ...        Ramp          20\n",
              "9 2018-07-01      M4  ...        Ramp          39\n",
              "\n",
              "[10 rows x 13 columns]"
            ]
          },
          "metadata": {
            "tags": []
          },
          "execution_count": 78
        }
      ]
    },
    {
      "cell_type": "code",
      "metadata": {
        "id": "uwTLFV4fjP_v",
        "colab_type": "code",
        "outputId": "06517f63-4494-4743-98da-e85b3fd8ddd4",
        "colab": {
          "base_uri": "https://localhost:8080/",
          "height": 34
        }
      },
      "source": [
        "\n",
        "total_vehicles=df['TotalVolume'].sum()\n",
        "total_vehicles"
      ],
      "execution_count": 79,
      "outputs": [
        {
          "output_type": "execute_result",
          "data": {
            "text/plain": [
              "8583621"
            ]
          },
          "metadata": {
            "tags": []
          },
          "execution_count": 79
        }
      ]
    },
    {
      "cell_type": "code",
      "metadata": {
        "id": "KGHzo36kRZvl",
        "colab_type": "code",
        "outputId": "b573d984-25e3-436a-a1b5-09d3856543be",
        "colab": {
          "base_uri": "https://localhost:8080/",
          "height": 86
        }
      },
      "source": [
        "df.columns"
      ],
      "execution_count": 80,
      "outputs": [
        {
          "output_type": "execute_result",
          "data": {
            "text/plain": [
              "Index(['DateTime', 'AssetID', 'FinancialQtrID', 'IntervalEnd', 'Version',\n",
              "       'VehicleClass', 'TollPointID', 'GantryDirection', 'GantryLocation',\n",
              "       'GantryGPSLatitude', 'GantryGPSLongitude', 'GantryType', 'TotalVolume'],\n",
              "      dtype='object')"
            ]
          },
          "metadata": {
            "tags": []
          },
          "execution_count": 80
        }
      ]
    },
    {
      "cell_type": "code",
      "metadata": {
        "id": "mot98uc1me-c",
        "colab_type": "code",
        "colab": {
          "base_uri": "https://localhost:8080/",
          "height": 86
        },
        "outputId": "b5c56ba0-0009-4c4f-e071-d81ab98a0937"
      },
      "source": [
        "total_cars = df.loc[df['VehicleClass']=='Car', 'VehicleClass'].value_counts()\n",
        "print(f\"total cars rows {total_cars}\")\n",
        "\n",
        "total_trucks = df.loc[df['VehicleClass']=='Truck', 'VehicleClass'].value_counts()\n",
        "print(f\"total trucks rows {total_trucks}\")\n"
      ],
      "execution_count": 81,
      "outputs": [
        {
          "output_type": "stream",
          "text": [
            "total cars rows Car    49555\n",
            "Name: VehicleClass, dtype: int64\n",
            "total trucks rows Truck    45393\n",
            "Name: VehicleClass, dtype: int64\n"
          ],
          "name": "stdout"
        }
      ]
    },
    {
      "cell_type": "markdown",
      "metadata": {
        "id": "_hMu7yJDmARe",
        "colab_type": "text"
      },
      "source": [
        "## Check for null values\n",
        "\n"
      ]
    },
    {
      "cell_type": "code",
      "metadata": {
        "id": "XXI8_zrVl95q",
        "colab_type": "code",
        "outputId": "96751c41-cca8-4318-afd6-dd2a2b423a10",
        "colab": {
          "base_uri": "https://localhost:8080/",
          "height": 34
        }
      },
      "source": [
        "df.isnull().values.any()"
      ],
      "execution_count": 82,
      "outputs": [
        {
          "output_type": "execute_result",
          "data": {
            "text/plain": [
              "False"
            ]
          },
          "metadata": {
            "tags": []
          },
          "execution_count": 82
        }
      ]
    },
    {
      "cell_type": "markdown",
      "metadata": {
        "id": "qWpleDfPmn7X",
        "colab_type": "text"
      },
      "source": [
        "## Rename column"
      ]
    },
    {
      "cell_type": "code",
      "metadata": {
        "id": "tx5XYTNPmnH2",
        "colab_type": "code",
        "outputId": "9d8d0bb1-ffd6-4c26-a34f-6765f275b0c7",
        "colab": {
          "base_uri": "https://localhost:8080/",
          "height": 104
        }
      },
      "source": [
        "df.rename(columns={'TotalVolume': 'TotalTrafficVolume', 'VehicleClass':'VehicleType'}, inplace=True)\n",
        "df.columns"
      ],
      "execution_count": 83,
      "outputs": [
        {
          "output_type": "execute_result",
          "data": {
            "text/plain": [
              "Index(['DateTime', 'AssetID', 'FinancialQtrID', 'IntervalEnd', 'Version',\n",
              "       'VehicleType', 'TollPointID', 'GantryDirection', 'GantryLocation',\n",
              "       'GantryGPSLatitude', 'GantryGPSLongitude', 'GantryType',\n",
              "       'TotalTrafficVolume'],\n",
              "      dtype='object')"
            ]
          },
          "metadata": {
            "tags": []
          },
          "execution_count": 83
        }
      ]
    },
    {
      "cell_type": "code",
      "metadata": {
        "id": "-U1MbpaUmeQM",
        "colab_type": "code",
        "outputId": "a98e2eb7-d568-4a8f-9e04-5bd135be3309",
        "colab": {
          "base_uri": "https://localhost:8080/",
          "height": 243
        }
      },
      "source": [
        "df.values"
      ],
      "execution_count": 84,
      "outputs": [
        {
          "output_type": "execute_result",
          "data": {
            "text/plain": [
              "array([[Timestamp('2018-07-01 00:00:00'), 'M4', 201901, ..., 151.0,\n",
              "        'Mainline', 310],\n",
              "       [Timestamp('2018-07-01 00:00:00'), 'M4', 201901, ..., 151.0,\n",
              "        'Mainline', 4],\n",
              "       [Timestamp('2018-07-01 00:00:00'), 'M4', 201901, ..., 151.0,\n",
              "        'Mainline', 120],\n",
              "       ...,\n",
              "       [Timestamp('2018-07-31 23:45:00'), 'M4', 201901, ..., 151.07,\n",
              "        'Ramp', 24],\n",
              "       [Timestamp('2018-07-31 23:45:00'), 'M4', 201901, ..., 151.07,\n",
              "        'Ramp', 5],\n",
              "       [Timestamp('2018-07-31 23:45:00'), 'M4', 201901, ..., 151.07,\n",
              "        'Mainline + G', 17]], dtype=object)"
            ]
          },
          "metadata": {
            "tags": []
          },
          "execution_count": 84
        }
      ]
    },
    {
      "cell_type": "markdown",
      "metadata": {
        "id": "Uevzw96xsoxD",
        "colab_type": "text"
      },
      "source": [
        "## Checking latitute and longitude against GantryLocation"
      ]
    },
    {
      "cell_type": "code",
      "metadata": {
        "id": "Kpko6jXMsuPP",
        "colab_type": "code",
        "outputId": "d77103f9-5970-4756-cccd-cbc7b3d59124",
        "colab": {
          "base_uri": "https://localhost:8080/",
          "height": 243
        }
      },
      "source": [
        "temp_df=df[['GantryLocation','GantryGPSLatitude','GantryGPSLongitude','TollPointID']].groupby(by=['GantryLocation'])\n",
        "print(temp_df.first())"
      ],
      "execution_count": 85,
      "outputs": [
        {
          "output_type": "stream",
          "text": [
            "                            GantryGPSLatitude  GantryGPSLongitude TollPointID\n",
            "GantryLocation                                                               \n",
            "Church St Entry                        -33.83              151.00      TS0102\n",
            "Church St Exit                         -33.83              151.00      TS0101\n",
            "Hill Rd Entry                          -33.85              151.05      TS1001\n",
            "Hill Rd Exit                           -33.85              151.05      TS0901\n",
            "Homebush Bay Dr (NB) Entry             -33.86              151.07      TS1301\n",
            "Homebush Bay Dr Entry                  -33.86              151.07      TS1401\n",
            "Homebush Bay Dr Exit                   -33.86              151.07      TS1201\n",
            "James Ruse Dr Entry                    -33.83              151.02      TS0201\n",
            "James Ruse Dr Exit                     -33.83              151.02      TS0202\n",
            "Silverwater Rd Entry                   -33.84              151.04      TS0601\n",
            "Silverwater Rd Exit                    -33.84              151.04      TS0501\n"
          ],
          "name": "stdout"
        }
      ]
    },
    {
      "cell_type": "code",
      "metadata": {
        "id": "K8tLd1sqtQ1Z",
        "colab_type": "code",
        "outputId": "8cbbae5c-de6b-489f-bfbb-19bfc98ad014",
        "colab": {
          "base_uri": "https://localhost:8080/",
          "height": 69
        }
      },
      "source": [
        "print(df['AssetID'].unique())\n",
        "print(df['Version'].unique())\n",
        "print(df['FinancialQtrID'].unique())\n",
        "#print(df['Date'].unique())"
      ],
      "execution_count": 86,
      "outputs": [
        {
          "output_type": "stream",
          "text": [
            "['M4']\n",
            "[3]\n",
            "[201901]\n"
          ],
          "name": "stdout"
        }
      ]
    },
    {
      "cell_type": "markdown",
      "metadata": {
        "id": "PT4jT9cyswAo",
        "colab_type": "text"
      },
      "source": [
        "## Drop unwanted columns like latitude and longitude"
      ]
    },
    {
      "cell_type": "code",
      "metadata": {
        "id": "cOg5gb0AszT9",
        "colab_type": "code",
        "outputId": "f960c033-e9cc-4e1e-87db-7c81e9dc0776",
        "colab": {
          "base_uri": "https://localhost:8080/",
          "height": 69
        }
      },
      "source": [
        "df.drop(['GantryGPSLatitude', 'GantryGPSLongitude','AssetID', 'Version','TollPointID','FinancialQtrID'], axis = 1, inplace=True)\n",
        "df.columns"
      ],
      "execution_count": 87,
      "outputs": [
        {
          "output_type": "execute_result",
          "data": {
            "text/plain": [
              "Index(['DateTime', 'IntervalEnd', 'VehicleType', 'GantryDirection',\n",
              "       'GantryLocation', 'GantryType', 'TotalTrafficVolume'],\n",
              "      dtype='object')"
            ]
          },
          "metadata": {
            "tags": []
          },
          "execution_count": 87
        }
      ]
    },
    {
      "cell_type": "code",
      "metadata": {
        "id": "fYEOOKg8X_DY",
        "colab_type": "code",
        "outputId": "0eb59f01-bcda-4600-af81-81c9ccd5641c",
        "colab": {
          "base_uri": "https://localhost:8080/",
          "height": 104
        }
      },
      "source": [
        "df['GantryLocation'].unique()"
      ],
      "execution_count": 88,
      "outputs": [
        {
          "output_type": "execute_result",
          "data": {
            "text/plain": [
              "array(['Church St Exit', 'Church St Entry', 'James Ruse Dr Entry',\n",
              "       'James Ruse Dr Exit', 'Silverwater Rd Exit',\n",
              "       'Silverwater Rd Entry', 'Hill Rd Exit', 'Hill Rd Entry',\n",
              "       'Homebush Bay Dr Exit', 'Homebush Bay Dr (NB) Entry',\n",
              "       'Homebush Bay Dr Entry'], dtype=object)"
            ]
          },
          "metadata": {
            "tags": []
          },
          "execution_count": 88
        }
      ]
    },
    {
      "cell_type": "code",
      "metadata": {
        "id": "f1Y5isJHYVW2",
        "colab_type": "code",
        "outputId": "2ee9ef37-07ea-481c-9308-a9db84659b5b",
        "colab": {
          "base_uri": "https://localhost:8080/",
          "height": 34
        }
      },
      "source": [
        "df['VehicleType'].unique()"
      ],
      "execution_count": 89,
      "outputs": [
        {
          "output_type": "execute_result",
          "data": {
            "text/plain": [
              "array(['Car', 'Truck'], dtype=object)"
            ]
          },
          "metadata": {
            "tags": []
          },
          "execution_count": 89
        }
      ]
    },
    {
      "cell_type": "code",
      "metadata": {
        "id": "APKyZvj-YlHg",
        "colab_type": "code",
        "colab": {
          "base_uri": "https://localhost:8080/",
          "height": 34
        },
        "outputId": "744b4b26-8ea7-4042-f391-84ec13ba0033"
      },
      "source": [
        "df['GantryType'].unique()"
      ],
      "execution_count": 90,
      "outputs": [
        {
          "output_type": "execute_result",
          "data": {
            "text/plain": [
              "array(['Mainline', 'Ramp', 'Mainline + G'], dtype=object)"
            ]
          },
          "metadata": {
            "tags": []
          },
          "execution_count": 90
        }
      ]
    },
    {
      "cell_type": "code",
      "metadata": {
        "id": "Ac6EJKOMZINl",
        "colab_type": "code",
        "outputId": "9de55321-d9f2-4232-c88a-80f41b6b275d",
        "colab": {
          "base_uri": "https://localhost:8080/",
          "height": 426
        }
      },
      "source": [
        "group_by_gantry_type = df[['GantryType', 'VehicleType','TotalTrafficVolume']].groupby(by=['GantryType', 'VehicleType'])\n",
        "group_by_gantry_type.head(2)\n"
      ],
      "execution_count": 91,
      "outputs": [
        {
          "output_type": "execute_result",
          "data": {
            "text/html": [
              "<div>\n",
              "<style scoped>\n",
              "    .dataframe tbody tr th:only-of-type {\n",
              "        vertical-align: middle;\n",
              "    }\n",
              "\n",
              "    .dataframe tbody tr th {\n",
              "        vertical-align: top;\n",
              "    }\n",
              "\n",
              "    .dataframe thead th {\n",
              "        text-align: right;\n",
              "    }\n",
              "</style>\n",
              "<table border=\"1\" class=\"dataframe\">\n",
              "  <thead>\n",
              "    <tr style=\"text-align: right;\">\n",
              "      <th></th>\n",
              "      <th>GantryType</th>\n",
              "      <th>VehicleType</th>\n",
              "      <th>TotalTrafficVolume</th>\n",
              "    </tr>\n",
              "  </thead>\n",
              "  <tbody>\n",
              "    <tr>\n",
              "      <th>0</th>\n",
              "      <td>Mainline</td>\n",
              "      <td>Car</td>\n",
              "      <td>310</td>\n",
              "    </tr>\n",
              "    <tr>\n",
              "      <th>1</th>\n",
              "      <td>Mainline</td>\n",
              "      <td>Truck</td>\n",
              "      <td>4</td>\n",
              "    </tr>\n",
              "    <tr>\n",
              "      <th>2</th>\n",
              "      <td>Mainline</td>\n",
              "      <td>Car</td>\n",
              "      <td>120</td>\n",
              "    </tr>\n",
              "    <tr>\n",
              "      <th>3</th>\n",
              "      <td>Mainline</td>\n",
              "      <td>Truck</td>\n",
              "      <td>2</td>\n",
              "    </tr>\n",
              "    <tr>\n",
              "      <th>4</th>\n",
              "      <td>Ramp</td>\n",
              "      <td>Car</td>\n",
              "      <td>23</td>\n",
              "    </tr>\n",
              "    <tr>\n",
              "      <th>5</th>\n",
              "      <td>Ramp</td>\n",
              "      <td>Car</td>\n",
              "      <td>4</td>\n",
              "    </tr>\n",
              "    <tr>\n",
              "      <th>10</th>\n",
              "      <td>Ramp</td>\n",
              "      <td>Truck</td>\n",
              "      <td>1</td>\n",
              "    </tr>\n",
              "    <tr>\n",
              "      <th>13</th>\n",
              "      <td>Ramp</td>\n",
              "      <td>Truck</td>\n",
              "      <td>1</td>\n",
              "    </tr>\n",
              "    <tr>\n",
              "      <th>22</th>\n",
              "      <td>Mainline + G</td>\n",
              "      <td>Car</td>\n",
              "      <td>266</td>\n",
              "    </tr>\n",
              "    <tr>\n",
              "      <th>23</th>\n",
              "      <td>Mainline + G</td>\n",
              "      <td>Truck</td>\n",
              "      <td>3</td>\n",
              "    </tr>\n",
              "    <tr>\n",
              "      <th>49</th>\n",
              "      <td>Mainline + G</td>\n",
              "      <td>Car</td>\n",
              "      <td>204</td>\n",
              "    </tr>\n",
              "    <tr>\n",
              "      <th>50</th>\n",
              "      <td>Mainline + G</td>\n",
              "      <td>Truck</td>\n",
              "      <td>1</td>\n",
              "    </tr>\n",
              "  </tbody>\n",
              "</table>\n",
              "</div>"
            ],
            "text/plain": [
              "      GantryType VehicleType  TotalTrafficVolume\n",
              "0       Mainline         Car                 310\n",
              "1       Mainline       Truck                   4\n",
              "2       Mainline         Car                 120\n",
              "3       Mainline       Truck                   2\n",
              "4           Ramp         Car                  23\n",
              "5           Ramp         Car                   4\n",
              "10          Ramp       Truck                   1\n",
              "13          Ramp       Truck                   1\n",
              "22  Mainline + G         Car                 266\n",
              "23  Mainline + G       Truck                   3\n",
              "49  Mainline + G         Car                 204\n",
              "50  Mainline + G       Truck                   1"
            ]
          },
          "metadata": {
            "tags": []
          },
          "execution_count": 91
        }
      ]
    },
    {
      "cell_type": "code",
      "metadata": {
        "id": "yuCsnsB8jRdY",
        "colab_type": "code",
        "outputId": "be99388e-c790-426f-d4ac-fdf2467ff5e0",
        "colab": {
          "base_uri": "https://localhost:8080/",
          "height": 477
        }
      },
      "source": [
        "car_data_avg = group_by_gantry_type.mean()\n",
        "car_data_count = group_by_gantry_type.count()\n",
        "\n",
        "print(car_data_avg.head(2))\n",
        "print(car_data_count)\n",
        "\n",
        "car_data_count"
      ],
      "execution_count": 92,
      "outputs": [
        {
          "output_type": "stream",
          "text": [
            "                        TotalTrafficVolume\n",
            "GantryType VehicleType                    \n",
            "Mainline   Car                  411.044388\n",
            "           Truck                 36.510095\n",
            "                          TotalTrafficVolume\n",
            "GantryType   VehicleType                    \n",
            "Mainline     Car                        8651\n",
            "             Truck                      8618\n",
            "Mainline + G Car                        2961\n",
            "             Truck                      2862\n",
            "Ramp         Car                       37943\n",
            "             Truck                     33913\n"
          ],
          "name": "stdout"
        },
        {
          "output_type": "execute_result",
          "data": {
            "text/html": [
              "<div>\n",
              "<style scoped>\n",
              "    .dataframe tbody tr th:only-of-type {\n",
              "        vertical-align: middle;\n",
              "    }\n",
              "\n",
              "    .dataframe tbody tr th {\n",
              "        vertical-align: top;\n",
              "    }\n",
              "\n",
              "    .dataframe thead th {\n",
              "        text-align: right;\n",
              "    }\n",
              "</style>\n",
              "<table border=\"1\" class=\"dataframe\">\n",
              "  <thead>\n",
              "    <tr style=\"text-align: right;\">\n",
              "      <th></th>\n",
              "      <th></th>\n",
              "      <th>TotalTrafficVolume</th>\n",
              "    </tr>\n",
              "    <tr>\n",
              "      <th>GantryType</th>\n",
              "      <th>VehicleType</th>\n",
              "      <th></th>\n",
              "    </tr>\n",
              "  </thead>\n",
              "  <tbody>\n",
              "    <tr>\n",
              "      <th rowspan=\"2\" valign=\"top\">Mainline</th>\n",
              "      <th>Car</th>\n",
              "      <td>8651</td>\n",
              "    </tr>\n",
              "    <tr>\n",
              "      <th>Truck</th>\n",
              "      <td>8618</td>\n",
              "    </tr>\n",
              "    <tr>\n",
              "      <th rowspan=\"2\" valign=\"top\">Mainline + G</th>\n",
              "      <th>Car</th>\n",
              "      <td>2961</td>\n",
              "    </tr>\n",
              "    <tr>\n",
              "      <th>Truck</th>\n",
              "      <td>2862</td>\n",
              "    </tr>\n",
              "    <tr>\n",
              "      <th rowspan=\"2\" valign=\"top\">Ramp</th>\n",
              "      <th>Car</th>\n",
              "      <td>37943</td>\n",
              "    </tr>\n",
              "    <tr>\n",
              "      <th>Truck</th>\n",
              "      <td>33913</td>\n",
              "    </tr>\n",
              "  </tbody>\n",
              "</table>\n",
              "</div>"
            ],
            "text/plain": [
              "                          TotalTrafficVolume\n",
              "GantryType   VehicleType                    \n",
              "Mainline     Car                        8651\n",
              "             Truck                      8618\n",
              "Mainline + G Car                        2961\n",
              "             Truck                      2862\n",
              "Ramp         Car                       37943\n",
              "             Truck                     33913"
            ]
          },
          "metadata": {
            "tags": []
          },
          "execution_count": 92
        }
      ]
    },
    {
      "cell_type": "code",
      "metadata": {
        "id": "bXHrTP41d3-0",
        "colab_type": "code",
        "outputId": "47b2ff01-39dc-48c8-af7f-c6d6bbb888e5",
        "colab": {
          "base_uri": "https://localhost:8080/",
          "height": 286
        }
      },
      "source": [
        "car_data_count.sort_values(by='TotalTrafficVolume').plot(kind='barh')"
      ],
      "execution_count": 93,
      "outputs": [
        {
          "output_type": "execute_result",
          "data": {
            "text/plain": [
              "<matplotlib.axes._subplots.AxesSubplot at 0x7f5a701ca160>"
            ]
          },
          "metadata": {
            "tags": []
          },
          "execution_count": 93
        },
        {
          "output_type": "display_data",
          "data": {
            "image/png": "[encoded data removed]",
            "text/plain": [
              "<Figure size 432x288 with 1 Axes>"
            ]
          },
          "metadata": {
            "tags": []
          }
        }
      ]
    },
    {
      "cell_type": "code",
      "metadata": {
        "id": "qyVXyxTXrjaS",
        "colab_type": "code",
        "colab": {
          "base_uri": "https://localhost:8080/",
          "height": 206
        },
        "outputId": "6b16534f-f8fe-4cc7-f01c-ba8716a90e3d"
      },
      "source": [
        "df.head()\n",
        "\n",
        "#df.shape[0]"
      ],
      "execution_count": 94,
      "outputs": [
        {
          "output_type": "execute_result",
          "data": {
            "text/html": [
              "<div>\n",
              "<style scoped>\n",
              "    .dataframe tbody tr th:only-of-type {\n",
              "        vertical-align: middle;\n",
              "    }\n",
              "\n",
              "    .dataframe tbody tr th {\n",
              "        vertical-align: top;\n",
              "    }\n",
              "\n",
              "    .dataframe thead th {\n",
              "        text-align: right;\n",
              "    }\n",
              "</style>\n",
              "<table border=\"1\" class=\"dataframe\">\n",
              "  <thead>\n",
              "    <tr style=\"text-align: right;\">\n",
              "      <th></th>\n",
              "      <th>DateTime</th>\n",
              "      <th>IntervalEnd</th>\n",
              "      <th>VehicleType</th>\n",
              "      <th>GantryDirection</th>\n",
              "      <th>GantryLocation</th>\n",
              "      <th>GantryType</th>\n",
              "      <th>TotalTrafficVolume</th>\n",
              "    </tr>\n",
              "  </thead>\n",
              "  <tbody>\n",
              "    <tr>\n",
              "      <th>0</th>\n",
              "      <td>2018-07-01</td>\n",
              "      <td>00:14</td>\n",
              "      <td>Car</td>\n",
              "      <td>W</td>\n",
              "      <td>Church St Exit</td>\n",
              "      <td>Mainline</td>\n",
              "      <td>310</td>\n",
              "    </tr>\n",
              "    <tr>\n",
              "      <th>1</th>\n",
              "      <td>2018-07-01</td>\n",
              "      <td>00:14</td>\n",
              "      <td>Truck</td>\n",
              "      <td>W</td>\n",
              "      <td>Church St Exit</td>\n",
              "      <td>Mainline</td>\n",
              "      <td>4</td>\n",
              "    </tr>\n",
              "    <tr>\n",
              "      <th>2</th>\n",
              "      <td>2018-07-01</td>\n",
              "      <td>00:14</td>\n",
              "      <td>Car</td>\n",
              "      <td>E</td>\n",
              "      <td>Church St Entry</td>\n",
              "      <td>Mainline</td>\n",
              "      <td>120</td>\n",
              "    </tr>\n",
              "    <tr>\n",
              "      <th>3</th>\n",
              "      <td>2018-07-01</td>\n",
              "      <td>00:14</td>\n",
              "      <td>Truck</td>\n",
              "      <td>E</td>\n",
              "      <td>Church St Entry</td>\n",
              "      <td>Mainline</td>\n",
              "      <td>2</td>\n",
              "    </tr>\n",
              "    <tr>\n",
              "      <th>4</th>\n",
              "      <td>2018-07-01</td>\n",
              "      <td>00:14</td>\n",
              "      <td>Car</td>\n",
              "      <td>W</td>\n",
              "      <td>James Ruse Dr Entry</td>\n",
              "      <td>Ramp</td>\n",
              "      <td>23</td>\n",
              "    </tr>\n",
              "  </tbody>\n",
              "</table>\n",
              "</div>"
            ],
            "text/plain": [
              "    DateTime IntervalEnd  ... GantryType TotalTrafficVolume\n",
              "0 2018-07-01       00:14  ...   Mainline                310\n",
              "1 2018-07-01       00:14  ...   Mainline                  4\n",
              "2 2018-07-01       00:14  ...   Mainline                120\n",
              "3 2018-07-01       00:14  ...   Mainline                  2\n",
              "4 2018-07-01       00:14  ...       Ramp                 23\n",
              "\n",
              "[5 rows x 7 columns]"
            ]
          },
          "metadata": {
            "tags": []
          },
          "execution_count": 94
        }
      ]
    },
    {
      "cell_type": "code",
      "metadata": {
        "id": "qKKrj6mFqSQU",
        "colab_type": "code",
        "colab": {
          "base_uri": "https://localhost:8080/",
          "height": 461
        },
        "outputId": "c2e06dc9-be53-4832-9eac-09206517e1b0"
      },
      "source": [
        "\n",
        "# Draw Plot\n",
        "def plot_df(df, x, y, title=\"\", xlabel='Date', ylabel='Traffic volume', dpi=100):\n",
        "    plt.figure(figsize=(16,5), dpi=dpi)\n",
        "    plt.plot(x, y, color='tab:red')\n",
        "    plt.gca().set(title=title, xlabel=xlabel, ylabel=ylabel)\n",
        "    plt.show()\n",
        "\n",
        "plot_df(df, x=df['DateTime'], y=df['TotalTrafficVolume'], title='Flow of traffic in M4.') "
      ],
      "execution_count": 95,
      "outputs": [
        {
          "output_type": "display_data",
          "data": {
            "image/png": "[encoded data removed]",
            "text/plain": [
              "<Figure size 1600x500 with 1 Axes>"
            ]
          },
          "metadata": {
            "tags": []
          }
        }
      ]
    },
    {
      "cell_type": "code",
      "metadata": {
        "id": "WOkXyxbgvGKW",
        "colab_type": "code",
        "colab": {}
      },
      "source": [
        " \n",
        "url='https://raw.githubusercontent.com/hrai/M4-Data-Analysis/master/data/M4_passages_2018-07.csv'\n",
        "df_all = pd.concat((pd.read_csv(f) for f in all_files))"
      ],
      "execution_count": 0,
      "outputs": []
    },
    {
      "cell_type": "markdown",
      "metadata": {
        "id": "o9OTbPcAsWAi",
        "colab_type": "text"
      },
      "source": [
        ""
      ]
    }
  ]
}