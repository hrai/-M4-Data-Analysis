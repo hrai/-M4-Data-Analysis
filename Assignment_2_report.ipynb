{
  "nbformat": 4,
  "nbformat_minor": 0,
  "metadata": {
    "colab": {
      "name": "Assignment 2 - report.ipynb",
      "version": "0.3.2",
      "provenance": [],
      "include_colab_link": true
    },
    "kernelspec": {
      "name": "python3",
      "display_name": "Python 3"
    }
  },
  "cells": [
    {
      "cell_type": "markdown",
      "metadata": {
        "id": "view-in-github",
        "colab_type": "text"
      },
      "source": [
        "<a href=\"https://colab.research.google.com/github/hrai/M4-Data-Analysis/blob/master/Assignment_2_report.ipynb\" target=\"_parent\"><img src=\"https://colab.research.google.com/assets/colab-badge.svg\" alt=\"Open In Colab\"/></a>"
      ]
    },
    {
      "cell_type": "markdown",
      "metadata": {
        "id": "lmDy6aH8xiXo",
        "colab_type": "text"
      },
      "source": [
        "#Assignment link - https://github.com/junjy007/UTS_ML2019_Main/blob/master/A2_Specification.pdf"
      ]
    },
    {
      "cell_type": "markdown",
      "metadata": {
        "id": "VumrllTOwUGE",
        "colab_type": "text"
      },
      "source": [
        "###Introduction\n"
      ]
    },
    {
      "cell_type": "markdown",
      "metadata": {
        "id": "BwZhZo_7xTvL",
        "colab_type": "text"
      },
      "source": [
        "###Exploration\n"
      ]
    },
    {
      "cell_type": "markdown",
      "metadata": {
        "id": "AaLZ-sFRxVsb",
        "colab_type": "text"
      },
      "source": [
        "###Methodology\n"
      ]
    },
    {
      "cell_type": "markdown",
      "metadata": {
        "id": "LiWmIf5BxXW5",
        "colab_type": "text"
      },
      "source": [
        "###Evaluation\n"
      ]
    },
    {
      "cell_type": "markdown",
      "metadata": {
        "id": "BBWDbawjxb5l",
        "colab_type": "text"
      },
      "source": [
        "###Ethical\n"
      ]
    },
    {
      "cell_type": "markdown",
      "metadata": {
        "id": "s8iaV0ikxZU1",
        "colab_type": "text"
      },
      "source": [
        "###Conclusion\n"
      ]
    }
  ]
}